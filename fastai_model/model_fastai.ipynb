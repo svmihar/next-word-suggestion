{
 "cells": [
  {
   "cell_type": "code",
   "execution_count": 1,
   "metadata": {},
   "outputs": [],
   "source": [
    "%reload_ext autoreload\n",
    "%autoreload 2\n",
    "%matplotlib inline\n",
    "from fastai.text import *\n",
    "path = '''/home/paperspace/fastai/course-v3/nbs/dl1/music/'''"
   ]
  },
  {
   "cell_type": "code",
   "execution_count": 1,
   "metadata": {},
   "outputs": [
    {
     "name": "stdout",
     "output_type": "stream",
     "text": [
      "Warning: Your Kaggle API key is readable by other users on this system! To fix this, you can run 'chmod 600 /home/paperspace/.kaggle/kaggle.json'\n",
      "Downloading songlyrics.zip to /home/paperspace/fastai/course-v3/nbs/dl1/music\n",
      " 91%|██████████████████████████████████▍   | 19.0M/21.0M [00:00<00:00, 41.1MB/s]\n",
      "100%|██████████████████████████████████████| 21.0M/21.0M [00:00<00:00, 52.5MB/s]\n",
      "Archive:  songlyrics.zip\n",
      "  inflating: songdata.csv            \n",
      "rm: cannot remove 'sopnglyrics.zip': No such file or directory\n"
     ]
    }
   ],
   "source": [
    "!kaggle datasets download mousehead/songlyrics\n",
    "!unzip songlyrics.zip\n",
    "!rm -r songlyrics.zip"
   ]
  },
  {
   "cell_type": "code",
   "execution_count": 3,
   "metadata": {},
   "outputs": [
    {
     "name": "stdout",
     "output_type": "stream",
     "text": [
      "Abdu songs-all-fit.ipynb\t      lyrics_total_lm\r\n",
      "Abdu songs.ipynb\t\t      lyrics_total_lm_deduped\r\n",
      "ArtistUrl.csv\t\t\t      lyrics_total_lm_deduped_no_chorus\r\n",
      "every-song-you-have-heard-almost.zip  lyrics_total_lm_deduped_no_chorus_2\r\n",
      "Lyrics1.csv\t\t\t      models\r\n",
      "Lyrics2.csv\t\t\t      songdata.csv\r\n",
      "lyrics_combined_df.pkl\t\t      songlyrics.zip\r\n",
      "lyrics_combined_lm\t\t      taylor_swift_lyrics.csvfinal.csv\r\n",
      "lyrics_total_df_clean_1.pkl\t      Untitled.ipynb\r\n",
      "lyrics_total_df.pkl\r\n"
     ]
    }
   ],
   "source": [
    "!ls"
   ]
  },
  {
   "cell_type": "code",
   "execution_count": null,
   "metadata": {},
   "outputs": [],
   "source": [
    "lyrics_1 = pd.read_csv(f'{path}Lyrics1.csv')\n",
    "#print(lyrics_1.head())\n",
    "\n",
    "lyrics_2 = pd.read_csv(f'{path}Lyrics2.csv')\n",
    "#print(lyrics_2.head())\n",
    "\n",
    "lyrics_total = lyrics_1.append(lyrics_2)\n",
    "#print(lyrics_total.head())\n",
    "\n",
    "lyrics_total['Lyrics'] = lyrics_total['Lyrics'].str.replace('\\n',' . ', regex=False)\n",
    "lyrics_total['Lyrics'] = lyrics_total['Lyrics'].str.replace('\\r','', regex=False)\n",
    "#print(lyrics_total.head(), len(lyrics_total))\n",
    "\n",
    "lyrics_total.dropna(inplace=True)\n",
    "lyrics_combined = lyrics_total[(lyrics_total.Band == 'Coldplay') | (lyrics_total.Band == 'Taylor Swift') | (lyrics_total.Band == 'Selena Gomez') |\n",
    "                           (lyrics_total.Band == 'Sugarland') | (lyrics_total.Band == 'Lorde') | (lyrics_total.Band == 'Lana Del Rey') |\n",
    "                           (lyrics_total.Band == 'Bob Dylan') | (lyrics_total.Band == 'Keane') | (lyrics_total.Band == 'Onerepublic') |\n",
    "                           (lyrics_total.Band == 'Snow Patrol') | (lyrics_total.Band == 'Imagine Dragons') | (lyrics_total.Band == 'The Fray') |                           (lyrics_total.Band == 'Sugarland') | (lyrics_total.Band == 'Lorde') | (lyrics_total.Band == 'Lana Del Rey') |\n",
    "                           (lyrics_total.Band == 'Ed Sheeran') | (lyrics_total.Band == 'Shawn Mendes') | (lyrics_total.Band == 'John Mayer') |\n",
    "                           (lyrics_total.Band == 'Jason Myraz') |\n",
    "                           (lyrics_total.Band == 'Colbie Calliat')]\n",
    "\n",
    "\n",
    "lyrics_combined.drop(['Band','Song'], axis=1, inplace=True)\n",
    "\n",
    "print(lyrics_combined.head(), len(lyrics_combined))\n",
    "\n",
    "lyrics_combined.to_pickle('lyrics_combined_df.pkl')"
   ]
  },
  {
   "cell_type": "code",
   "execution_count": 7,
   "metadata": {},
   "outputs": [
    {
     "name": "stdout",
     "output_type": "stream",
     "text": [
      "1478\n",
      "                                                    text\n",
      "17805  absolutely no one who knows me better . no one...\n",
      "17806  they say this town . the stars stay up all nig...\n",
      "17807  friday, payday, lordy got to get away . had it...\n",
      "17808  oh i swear this town gets smaller everyday,  ....\n",
      "17809  i was born in the heart of a hurricane season ...\n"
     ]
    }
   ],
   "source": [
    "df = pd.read_pickle('lyrics_combined_df.pkl')\n",
    "df.rename(columns={'Lyrics':'text'}, inplace=True)\n",
    "print(len(df))\n",
    "print(df.head())"
   ]
  },
  {
   "cell_type": "code",
   "execution_count": 8,
   "metadata": {},
   "outputs": [],
   "source": [
    "from itertools import chain, groupby\n",
    "\n",
    "def stride(lst, offset, length):\n",
    "    if offset:\n",
    "        yield lst[:offset]\n",
    "\n",
    "    while True:\n",
    "        yield lst[offset:offset + length]\n",
    "        offset += length\n",
    "        if offset >= len(lst):\n",
    "            return\n",
    "\n",
    "def dedupe(lst):\n",
    "    return list(chain(*[item[0] for item in groupby(lst)]))\n",
    "\n",
    "def cleanse(list_of_words, max_phrase_length):\n",
    "    for length in range(1, max_phrase_length + 1):\n",
    "        for offset in range(length):\n",
    "            list_of_words = dedupe(stride(list_of_words, offset, length))\n",
    "\n",
    "    return list_of_words"
   ]
  },
  {
   "cell_type": "code",
   "execution_count": 14,
   "metadata": {},
   "outputs": [
    {
     "name": "stdout",
     "output_type": "stream",
     "text": [
      "                                                    text\n",
      "17805  absolutely no one who knows me better no one t...\n",
      "17806  they say this town the stars stay up all night...\n",
      "17807  friday, payday, lordy got to get away had it w...\n",
      "17808  oh i swear this town gets smaller everyday. an...\n",
      "17809  i was born in the heart of a hurricane season ... 1478\n"
     ]
    }
   ],
   "source": [
    "df['text'] = df['text'].astype(str)\n",
    "df['text'] = df.text.str.lower()\n",
    "df['text'] = df['text'].str.replace('\\n',',', regex=False)\n",
    "df['text'] = df['text'].str.replace('\\r','', regex=False)\n",
    "df['text'] = df['text'].str.replace('-', '', regex=False)\n",
    "df['text'] = df['text'].str.replace('\\((.*?)\\)','',regex=True)\n",
    "df['text'] = df['text'].str.replace('\\[(.*?)\\]','',regex=True)\n",
    "df['text'] = df['text'].apply(lambda x : cleanse(x.split(), 5))\n",
    "df['text'] = df['text'].apply(lambda x : \" \".join(x)) \n",
    "print(df.head(), len(df))"
   ]
  },
  {
   "cell_type": "code",
   "execution_count": 15,
   "metadata": {},
   "outputs": [
    {
     "name": "stdout",
     "output_type": "stream",
     "text": [
      "                                                    text\n",
      "17805  absolutely no one who knows me better no one t...\n",
      "17806  they say this town the stars stay up all night...\n",
      "17807  friday, payday, lordy got to get away had it w...\n",
      "17808  oh i swear this town gets smaller everyday. an...\n",
      "17809  i was born in the heart of a hurricane season ...\n",
      "17810  i got miles of trouble spreadin far and wide b...\n",
      "17811  well, it's two miles east to west only four mi...\n",
      "17812  monday, hard to wake up fill my coffee cup, i'...\n",
      "17813  we drove all night to get to corpus christi my...\n",
      "17814  go ahead and take your best shot. let 'er rip,...\n",
      "17815  it ain't often i take time to answer calls on ...\n",
      "17816  i was on a fast curve, lost my nerve on a dead...\n",
      "17817  looking for an angel in these hills looking fo...\n",
      "17818  there's a place i like to go cherry bombs and ...\n",
      "17819  grew up on a tight rope learned to smile even ...\n",
      "17820  cowboys ride into sunsets the good guy always ...\n",
      "17821  mean girls well, i ain't a mean girl but i've ...\n",
      "17822  little annie vickers is boarding up windows an...\n",
      "17823  fifteen minutes left to throw me together for ...\n",
      "17824  warm breeze blowin', long dirt road first time... 1478\n"
     ]
    }
   ],
   "source": [
    "df['text'] = df['text'].apply(lambda x : cleanse(x.split(' '), 2))\n",
    "df['text'] = df['text'].apply(lambda x : \" \".join(x)) \n",
    "print(df.head(20), len(df))"
   ]
  },
  {
   "cell_type": "code",
   "execution_count": 16,
   "metadata": {},
   "outputs": [
    {
     "name": "stdout",
     "output_type": "stream",
     "text": [
      "                                                    text\n",
      "17805  absolutely no one who knows me better no one t...\n",
      "17806  they say this town the stars stay up all night...\n",
      "17807  friday, payday, lordy got to get away had it w...\n",
      "17808  oh i swear this town gets smaller everyday. an...\n",
      "17809  i was born in the heart of a hurricane season ...\n"
     ]
    }
   ],
   "source": [
    "df['text'] = df['text'].str.replace(', ,', ',', regex=False)\n",
    "df['text'] = df['text'].str.replace('. ,', '.', regex=False)\n",
    "df['text'] = df['text'].str.replace(', .', '.', regex=False)\n",
    "print(df.head())"
   ]
  },
  {
   "cell_type": "code",
   "execution_count": 17,
   "metadata": {},
   "outputs": [
    {
     "name": "stdout",
     "output_type": "stream",
     "text": [
      "                                                    text\n",
      "17805  absolutely no one who knows me better no one t...\n",
      "17806  they say this town the stars stay up all night...\n",
      "17807  friday, payday, lordy got to get away had it w...\n",
      "17808  oh i swear this town gets smaller everyday. an...\n",
      "17809  i was born in the heart of a hurricane season ...\n",
      "17810  i got miles of trouble spreadin far and wide b...\n",
      "17811  well, it's two miles east to west only four mi...\n",
      "17812  monday, hard to wake up fill my coffee cup, i'...\n",
      "17813  we drove all night to get to corpus christi my...\n",
      "17814  go ahead and take your best shot. let 'er rip,...\n",
      "17815  it ain't often i take time to answer calls on ...\n",
      "17816  i was on a fast curve, lost my nerve on a dead...\n",
      "17817  looking for an angel in these hills looking fo...\n",
      "17818  there's a place i like to go cherry bombs and ...\n",
      "17819  grew up on a tight rope learned to smile even ...\n",
      "17820  cowboys ride into sunsets the good guy always ...\n",
      "17821  mean girls well, i ain't a mean girl but i've ...\n",
      "17822  little annie vickers is boarding up windows an...\n",
      "17823  fifteen minutes left to throw me together for ...\n",
      "17824  warm breeze blowin', long dirt road first time...\n",
      "17825  it's written on our palms, and it's written on...\n",
      "17826  i've packed a cooler and a change of clothes l...\n",
      "17827  a salvation army band played and the children ...\n",
      "17828  i don't want to get up baby. let's turn off th...\n",
      "17829  my mama mapped out the road that she knows whi...\n",
      "17830  i miss the sound of your voice i miss the rush...\n",
      "17831  when the weight of the world breaks down so st...\n",
      "17832  my heart's grown cold, there's not much left. ...\n",
      "17833  missed my alarm clock ringing woke up telephon...\n",
      "17834  what if i said yes what if i'd gone out that n...\n",
      "17835  we said goodbye. tried her hand at magic. but ...\n",
      "17836  a salvation army band played and the children ...\n",
      "17837  is it the face of a child is it the thrill of ...\n",
      "17838  gotta get a handle on the situation soul solut...\n",
      "17839  one more well i heard steve earle had a lot of...\n",
      "17840  radiator says 95 but i ain't felt a drop of he...\n",
      "17841  today is my birthday and all that i want is to...\n",
      "17842  snake oil and roses, pockets of dirt. hands of...\n",
      "17843  what i'd give to bring you flowers what i'd gi...\n",
      "17844  sometimes it's a pair of old faded denim, i kn...\n",
      "17845  windows in new york city all dressed up with r...\n",
      "17846  well, hello it's been a long time, and i wanna...\n",
      "17847  christmas trees in window panes shimmering whe...\n",
      "17848  it's christmas day and the snow is comin down ...\n",
      "17849  every christmas i come back to this town i com...\n",
      "17850  i broke my doll on kenny's head somebody snitc...\n",
      "17851  o come, emmanuel and ransom captive israel tha...\n",
      "17852  silent night, holy night all is calm, all is b...\n",
      "17853  sleigh bells ring, are you listening in the la...\n",
      "17854  to the left mmmm to the left everything you ow...\n"
     ]
    }
   ],
   "source": [
    "df['text'] = df['text'].str.replace('\"', '', regex=False)\n",
    "df['text'] = df['text'].str.replace(', ,', ',', regex=False)\n",
    "df['text'] = df['text'].str.replace('. ,', '.', regex=False)\n",
    "df['text'] = df['text'].str.replace(', .', '.', regex=False)\n",
    "df['text'] = df['text'].str.replace(',,', ',', regex=False)\n",
    "df['text'] = df['text'].str.replace('.,', '.', regex=False)\n",
    "df['text'] = df['text'].str.replace(',.', '.', regex=False)\n",
    "df['text'] = df['text'].str.replace('...', '.', regex=False)\n",
    "df['text'] = df['text'].str.replace('? ,', '?', regex=False)\n",
    "df['text'] = df['text'].str.replace(', ?', '?', regex=False)\n",
    "df['text'] = df['text'].str.replace('?,', '?', regex=False)\n",
    "df['text'] = df['text'].str.replace(',?', '?', regex=False)\n",
    "df['text'] = df['text'].str.replace('''' ''', ' ', regex=False)\n",
    "df['text'] = df['text'].str.replace(' . ', ' ', regex=False)\n",
    "df['text'] = df['text'].astype(str)\n",
    "df['text'] = df.text.str.lower()\n",
    "print(df.head(50))"
   ]
  },
  {
   "cell_type": "code",
   "execution_count": 18,
   "metadata": {},
   "outputs": [],
   "source": [
    "df.to_pickle('lyrics_combined_df.pkl')"
   ]
  },
  {
   "cell_type": "code",
   "execution_count": 19,
   "metadata": {},
   "outputs": [
    {
     "name": "stdout",
     "output_type": "stream",
     "text": [
      "                                                    text\n",
      "17805  absolutely no one who knows me better no one t...\n",
      "17806  they say this town the stars stay up all night...\n",
      "17807  friday, payday, lordy got to get away had it w...\n",
      "17808  oh i swear this town gets smaller everyday. an...\n",
      "17809  i was born in the heart of a hurricane season ...\n",
      "17810  i got miles of trouble spreadin far and wide b...\n",
      "17811  well, it's two miles east to west only four mi...\n",
      "17812  monday, hard to wake up fill my coffee cup, i'...\n",
      "17813  we drove all night to get to corpus christi my...\n",
      "17814  go ahead and take your best shot. let 'er rip,...\n",
      "17815  it ain't often i take time to answer calls on ...\n",
      "17816  i was on a fast curve, lost my nerve on a dead...\n",
      "17817  looking for an angel in these hills looking fo...\n",
      "17818  there's a place i like to go cherry bombs and ...\n",
      "17819  grew up on a tight rope learned to smile even ...\n",
      "17820  cowboys ride into sunsets the good guy always ...\n",
      "17821  mean girls well, i ain't a mean girl but i've ...\n",
      "17822  little annie vickers is boarding up windows an...\n",
      "17823  fifteen minutes left to throw me together for ...\n",
      "17824  warm breeze blowin', long dirt road first time...\n",
      "17825  it's written on our palms, and it's written on...\n",
      "17826  i've packed a cooler and a change of clothes l...\n",
      "17827  a salvation army band played and the children ...\n",
      "17828  i don't want to get up baby. let's turn off th...\n",
      "17829  my mama mapped out the road that she knows whi...\n",
      "17830  i miss the sound of your voice i miss the rush...\n",
      "17831  when the weight of the world breaks down so st...\n",
      "17832  my heart's grown cold, there's not much left. ...\n",
      "17833  missed my alarm clock ringing woke up telephon...\n",
      "17834  what if i said yes what if i'd gone out that n...\n",
      "17835  we said goodbye. tried her hand at magic. but ...\n",
      "17836  a salvation army band played and the children ...\n",
      "17837  is it the face of a child is it the thrill of ...\n",
      "17838  gotta get a handle on the situation soul solut...\n",
      "17839  one more well i heard steve earle had a lot of...\n",
      "17840  radiator says 95 but i ain't felt a drop of he...\n",
      "17841  today is my birthday and all that i want is to...\n",
      "17842  snake oil and roses, pockets of dirt. hands of...\n",
      "17843  what i'd give to bring you flowers what i'd gi...\n",
      "17844  sometimes it's a pair of old faded denim, i kn... 1478\n"
     ]
    }
   ],
   "source": [
    "df = pd.read_pickle('lyrics_combined_df.pkl')\n",
    "df.rename(columns={'Lyrics':'text'}, inplace=True)\n",
    "print(df.head(40), len(df))"
   ]
  },
  {
   "cell_type": "code",
   "execution_count": 3,
   "metadata": {},
   "outputs": [],
   "source": [
    "bs = 64"
   ]
  },
  {
   "cell_type": "code",
   "execution_count": 21,
   "metadata": {},
   "outputs": [],
   "source": [
    "data = (TextList.from_df(df, path, cols='text')\n",
    "                .random_split_by_pct(0.1)\n",
    "                .label_for_lm()\n",
    "                .databunch(bs=bs))\n",
    "data.save('/app/static/data_lm')"
   ]
  },
  {
   "cell_type": "code",
   "execution_count": 4,
   "metadata": {},
   "outputs": [
    {
     "data": {
      "text/html": [
       "<table>  <col width='5%'>  <col width='95%'>  <tr>\n",
       "    <th>idx</th>\n",
       "    <th>text</th>\n",
       "  </tr>\n",
       "  <tr>\n",
       "    <th>0</th>\n",
       "    <th>you do it and do it one time . there you go pulling me right back in right back in , right back in and i know i 'm never letting this go i 'm stuck on you whoaoh , whoaoh stuck like glue you and me baby we 're stuck like glue whoaoh , whoaoh stuck like glue you and me baby we 're stuck like glue some days</th>\n",
       "  </tr>\n",
       "  <tr>\n",
       "    <th>1</th>\n",
       "    <th>a little closer baby . we can talk without the words hang a sign on the door , please do not . please do not disturb when i lay down in the evening all i really want to do . when i wake up , when i wake up in the morning baby . all i really want to do xxbos my mama mapped out the road that she knows</th>\n",
       "  </tr>\n",
       "  <tr>\n",
       "    <th>2</th>\n",
       "    <th>smoke horizon wo n't give up the fight fire like lightening burnin up the night a smoke horizon wo n't give up the fight well , deep inside can you hear that call ? wakin your heart and shakin your walls where love is found , the nations fall a cry will rise above it all we are all we are , we are young ! shine like diamonds cut</th>\n",
       "  </tr>\n",
       "  <tr>\n",
       "    <th>3</th>\n",
       "    <th>that i want her tell her that i need her tell her that she 's more than a onenight stand tell her that i love her more than anyone else if you do n't , then i 'll tell her myself and we 've got love in us so if the drink kill us we 're gon na dance all night till the floor xxunk if we talk outside i</th>\n",
       "  </tr>\n",
       "  <tr>\n",
       "    <th>4</th>\n",
       "    <th>way and maybe you should learn to love her like , like the way you wanna be loved , hey i do it for the love , waiting on the gold rush keep it on the edge , smoking on a roll up when i see my friends , all they say is hold up and remember the time when we were in school , listening to grown ups did</th>\n",
       "  </tr>\n",
       "  <tr>\n",
       "    <th>5</th>\n",
       "    <th>while but i 've got no plans at all to leave and would you take away my hopes and dreams ? just stay with me all my senses come to life while i 'm stumbling home as drunk as i have ever been and i 'll never leave again 'cause you are the only one and all my friends have gone to find another place to let their hearts collide</th>\n",
       "  </tr>\n",
       "  <tr>\n",
       "    <th>6</th>\n",
       "    <th>when we got paid we 'd buy cheap spirits and drink them straight me and my friends have not thrown up in so long , oh how we 've grown but i ca n't wait to go home i 'm on my way driving at ninety down those country lanes singing to tiny dancer and i miss the way you make me feel , and it 's real we watched</th>\n",
       "  </tr>\n",
       "  <tr>\n",
       "    <th>7</th>\n",
       "    <th>heard it , darling , you look perfect tonight well i found a woman , stronger than anyone i know she xxunk my dreams , i hope that someday i 'll share her home i found a love , to carry more than just my secrets to carry love , to carry children of our own we are still kids , but we 're so in love fighting against all</th>\n",
       "  </tr>\n",
       "  <tr>\n",
       "    <th>8</th>\n",
       "    <th>me for anything you like and i no i do n't mind xxbos i do n't know your face no more or feel the touch that i adore i do n't know your face no more it 's just a place i 'm looking for we might as well be strangers in another town we might as well be living in a different world we might as well i do</th>\n",
       "  </tr>\n",
       "  <tr>\n",
       "    <th>9</th>\n",
       "    <th>gun without a reason you understand i look out for you come rain , come shine what good does it do ? i guess i 'm a toy that is broken i guess we 're just older now who says the river ca n't leave its waters ? who says you walk in a line ? who says the city change its xxunk ? who says you 're mine ?</th>\n",
       "  </tr>\n",
       "  <tr>\n",
       "    <th>10</th>\n",
       "    <th>'s further to fall down cos you fly so high i 've never seen such beauty i 've never seen such clear skies i 've never seen such high hopes i 've never seen such tired eyes and i wish that i could be everything you are down in the xxunk the city wakes turns on the tv as the xxunk breaks where the streets are burnt by the summer</th>\n",
       "  </tr>\n",
       "  <tr>\n",
       "    <th>11</th>\n",
       "    <th>in anything you 'd have on me xxunk my teeth with bitter smiles and cigarettes torture me and let me watch you as you fuck him bury me in love until i suffocate 'cause it 's easier to make love than to crawl across the floor and beg for more after all this cold i 'm sure wo n't last for long the bible xxunk on each corner turn to</th>\n",
       "  </tr>\n",
       "  <tr>\n",
       "    <th>12</th>\n",
       "    <th>have a choice even if you can not hear my voice i 'll be right beside you dear louder , louder and we 'll run for our lives i can hardly speak i understand why you ca n't raise your voice to say slower , slower we do n't have time for that all i want is to find an easier way to get out of our little heads have</th>\n",
       "  </tr>\n",
       "  <tr>\n",
       "    <th>13</th>\n",
       "    <th>'m just as scared i just wanna watch you sleep as you lie here beside me so close your eyes , i 'll guard the door and when you wake , you 'll wake with me and when you wake you 'll so now i 'm telling you the reason i 'm all messed up just have to look me in the eyes and i fall apart please let me</th>\n",
       "  </tr>\n",
       "  <tr>\n",
       "    <th>14</th>\n",
       "    <th>marked the earth it 's xxunk was frozen glass you slip into my arms and you quickly correct yourself your freezing speech bubbles seem to hold your words aloft i want the smoky clouds of laughter to swim about me forever more i will race you to the waterside and from the edge of ireland shout out loud so they could hear it in america it 's all for you</th>\n",
       "  </tr>\n",
       "  <tr>\n",
       "    <th>15</th>\n",
       "    <th>it in my bones like oh whoa oh something big is happening whoa oh whoa something big i feel it happening whoa xxbos time up in the middle of a daydream call you up ‘ cause the time is wasting let ’s drive we got nowhere to go fear not , yeah , welcome to the jungle think fast , move quick , do n’t stumble we ca n’t do</th>\n",
       "  </tr>\n",
       "  <tr>\n",
       "    <th>16</th>\n",
       "    <th>last summer tell me where you 've been i know , i know ca n't seem to let you go , ca n't seem to keep you close ca n't seem to let you go , ca n't seem to keep you close tell me where you 've been lately tell me where you 've been lately tell me where you 've been lately tell me where you 've been</th>\n",
       "  </tr>\n",
       "  <tr>\n",
       "    <th>17</th>\n",
       "    <th>kissed i felt like that kid in love , yeah and i know that i 'll probably regret it i now wish i never said this at all oh i hate to hurt you but i got to be honest i ca n't give you what you need , oh you deserve more than i can promise and i 'm just tryna , i 'm just tryna baby , i</th>\n",
       "  </tr>\n",
       "  <tr>\n",
       "    <th>18</th>\n",
       "    <th>else , it 's in the blood their xxunk blinking like the lights , in the xxunk where we all sit and do nothing and love it and everything works out so good i wear the robe like no one could and everything works out so good i wear the robe like no one could and everything works out so good i wear the robe like no one could and</th>\n",
       "  </tr>\n",
       "  <tr>\n",
       "    <th>19</th>\n",
       "    <th>over you could feel it all around everybody 's out to get you do n't you let it drag you down 'cause if you ever feel neglected if you think that all is lost i 'll be counting up my demons yeah hoping everything 's not lost if you ever feel neglected if you think all is lost i 'll be counting up my demons yeah hoping everything 's not</th>\n",
       "  </tr>\n",
       "</table>\n"
      ],
      "text/plain": [
       "<IPython.core.display.HTML object>"
      ]
     },
     "metadata": {},
     "output_type": "display_data"
    }
   ],
   "source": [
    "data_lm = TextLMDataBunch.load(path, 'leaves-of-ai/app/static/data_lm', bs=bs)\n",
    "data_lm.show_batch(rows=20)"
   ]
  },
  {
   "cell_type": "code",
   "execution_count": 5,
   "metadata": {},
   "outputs": [],
   "source": [
    "learn = language_model_learner(data_lm, AWD_LSTM, pretrained=URLs.WT103_1, drop_mult=0.4)"
   ]
  },
  {
   "cell_type": "code",
   "execution_count": 10,
   "metadata": {},
   "outputs": [
    {
     "name": "stdout",
     "output_type": "stream",
     "text": [
      "LR Finder is complete, type {learner_name}.recorder.plot() to see the graph.\n",
      "Min numerical gradient: 3.98E-02\n"
     ]
    },
    {
     "data": {
      "image/png": "[encoded data removed]",
      "text/plain": [
       "<Figure size 432x288 with 1 Axes>"
      ]
     },
     "metadata": {
      "needs_background": "light"
     },
     "output_type": "display_data"
    }
   ],
   "source": [
    "learn.lr_find()\n",
    "learn.recorder.plot()"
   ]
  },
  {
   "cell_type": "code",
   "execution_count": 11,
   "metadata": {},
   "outputs": [
    {
     "data": {
      "text/html": [
       "Total time: 00:38 <p><table style='width:300px; margin-bottom:10px'>\n",
       "  <tr>\n",
       "    <th>epoch</th>\n",
       "    <th>train_loss</th>\n",
       "    <th>valid_loss</th>\n",
       "    <th>accuracy</th>\n",
       "  </tr>\n",
       "  <tr>\n",
       "    <th>1</th>\n",
       "    <th>4.857316</th>\n",
       "    <th>4.414676</th>\n",
       "    <th>0.197718</th>\n",
       "  </tr>\n",
       "  <tr>\n",
       "    <th>2</th>\n",
       "    <th>4.301091</th>\n",
       "    <th>4.240213</th>\n",
       "    <th>0.213145</th>\n",
       "  </tr>\n",
       "  <tr>\n",
       "    <th>3</th>\n",
       "    <th>3.850927</th>\n",
       "    <th>4.161656</th>\n",
       "    <th>0.223735</th>\n",
       "  </tr>\n",
       "</table>\n"
      ],
      "text/plain": [
       "<IPython.core.display.HTML object>"
      ]
     },
     "metadata": {},
     "output_type": "display_data"
    }
   ],
   "source": [
    "learn.fit_one_cycle(3, 3e-2)"
   ]
  },
  {
   "cell_type": "code",
   "execution_count": 12,
   "metadata": {},
   "outputs": [
    {
     "name": "stdout",
     "output_type": "stream",
     "text": [
      "LR Finder is complete, type {learner_name}.recorder.plot() to see the graph.\n",
      "Min numerical gradient: 9.12E-07\n"
     ]
    },
    {
     "data": {
      "image/png": "[encoded data removed]",
      "text/plain": [
       "<Figure size 432x288 with 1 Axes>"
      ]
     },
     "metadata": {
      "needs_background": "light"
     },
     "output_type": "display_data"
    }
   ],
   "source": [
    "learn.unfreeze()\n",
    "learn.lr_find()\n",
    "learn.recorder.plot()"
   ]
  },
  {
   "cell_type": "code",
   "execution_count": 13,
   "metadata": {},
   "outputs": [
    {
     "data": {
      "text/html": [
       "Total time: 02:55 <p><table style='width:300px; margin-bottom:10px'>\n",
       "  <tr>\n",
       "    <th>epoch</th>\n",
       "    <th>train_loss</th>\n",
       "    <th>valid_loss</th>\n",
       "    <th>accuracy</th>\n",
       "  </tr>\n",
       "  <tr>\n",
       "    <th>1</th>\n",
       "    <th>3.573188</th>\n",
       "    <th>4.158583</th>\n",
       "    <th>0.225223</th>\n",
       "  </tr>\n",
       "  <tr>\n",
       "    <th>2</th>\n",
       "    <th>3.546523</th>\n",
       "    <th>4.115327</th>\n",
       "    <th>0.230828</th>\n",
       "  </tr>\n",
       "  <tr>\n",
       "    <th>3</th>\n",
       "    <th>3.438178</th>\n",
       "    <th>4.074120</th>\n",
       "    <th>0.239658</th>\n",
       "  </tr>\n",
       "  <tr>\n",
       "    <th>4</th>\n",
       "    <th>3.332717</th>\n",
       "    <th>4.042652</th>\n",
       "    <th>0.246801</th>\n",
       "  </tr>\n",
       "  <tr>\n",
       "    <th>5</th>\n",
       "    <th>3.235477</th>\n",
       "    <th>4.016857</th>\n",
       "    <th>0.250298</th>\n",
       "  </tr>\n",
       "  <tr>\n",
       "    <th>6</th>\n",
       "    <th>3.137173</th>\n",
       "    <th>3.997612</th>\n",
       "    <th>0.255952</th>\n",
       "  </tr>\n",
       "  <tr>\n",
       "    <th>7</th>\n",
       "    <th>3.058514</th>\n",
       "    <th>3.989526</th>\n",
       "    <th>0.259474</th>\n",
       "  </tr>\n",
       "  <tr>\n",
       "    <th>8</th>\n",
       "    <th>3.022945</th>\n",
       "    <th>3.979706</th>\n",
       "    <th>0.261830</th>\n",
       "  </tr>\n",
       "  <tr>\n",
       "    <th>9</th>\n",
       "    <th>2.976565</th>\n",
       "    <th>3.980662</th>\n",
       "    <th>0.261359</th>\n",
       "  </tr>\n",
       "  <tr>\n",
       "    <th>10</th>\n",
       "    <th>2.944232</th>\n",
       "    <th>3.983280</th>\n",
       "    <th>0.260689</th>\n",
       "  </tr>\n",
       "</table>\n"
      ],
      "text/plain": [
       "<IPython.core.display.HTML object>"
      ]
     },
     "metadata": {},
     "output_type": "display_data"
    }
   ],
   "source": [
    "learn.fit_one_cycle(10, slice(1e-4,1e-3), moms=(0.8,0.7))"
   ]
  },
  {
   "cell_type": "code",
   "execution_count": 14,
   "metadata": {},
   "outputs": [],
   "source": [
    "learn.save('Initial_fit_render')"
   ]
  },
  {
   "cell_type": "code",
   "execution_count": 6,
   "metadata": {},
   "outputs": [],
   "source": [
    "learn = language_model_learner(data_lm, AWD_LSTM, pretrained=True, drop_mult=0.3)"
   ]
  },
  {
   "cell_type": "code",
   "execution_count": 17,
   "metadata": {},
   "outputs": [
    {
     "data": {
      "text/plain": [
       "LanguageLearner(data=TextLMDataBunch;\n",
       "\n",
       "Train: LabelList (1331 items)\n",
       "x: LMTextList\n",
       "xxbos xxunk no one who knows me better no one that can make me feel so good how did we stay so long together when everybody said we never would and just when i start to think they 're right that love has died there you go making my heart beat again heart beat again , heart beat again there you go making me feel like a kid wo n't you do it and do it one time . there you go pulling me right back in right back in , right back in and i know i 'm never letting this go i 'm stuck on you whoaoh , whoaoh stuck like glue you and me baby we 're stuck like glue whoaoh , whoaoh stuck like glue you and me baby we 're stuck like glue some days i do n't feel like trying some days you know i wanna just give up when it does n't matter who 's right fight about it all night had enough you give me that look i 'm sorry baby let 's make up you do that thing that makes me laugh and just like that there you go making my heart beat again heart beat again , heart beat again there you go making me feel like a kid wo n't you do it and do it one time there you go pulling me right back in right back in , right back in and i know i 'm never letting this go i 'm stuck on you whoaoh , whoaoh stuck like glue you and me baby we 're stuck like glue whoaoh , whoaoh stuck like glue you and me baby we 're stuck like glue whoaoh , whoaoh you almost stay out too stuck together from the xxunk whoaoh , whoaoh feeling kinda sick just a spoon full of sugar make it better real quick i say , whoaoh , whoaoh xxunk gon na do with that whoaoh , whoaoh come on over here with that sugar xxunk sweet stuff come on give me that stuff everybody want some xxunk that get stuck up in your head whoaoh , whoaoh up in your head whoaoh , whoaoh up in your head whoaoh , whoaoh up in your head whoaoh , whoaoh stuck like glue you and me together say it 's all i wanna do i said there you go making my heart beat again heart beat again , heart beat again there you go making me feel like a kid wo n't you do it and do it one time there you go pulling me right back in right back in , right back in and i know i 'm never letting this go there you go making my heart beat again heart beat again , heart beat again there you go making me feel like a kid wo n't you do it and do it one time there you go pulling me right back in right back in , right back in and i know i 'm never letting this go i 'm stuck on you whoaoh , whoaoh stuck like glue you and me baby we 're stuck like glue whoaoh , whoaoh stuck like glue you and me baby we 're stuck like glue whoaoh , whoaoh stuck like glue you and me baby we 're stuck like glue,xxbos they say this town the stars stay up all night do n't know , ca n't see 'em for the glow of the neon lights and it 's a long way from here to the place where the home fires burn well , it 's two thousand miles and one left turn dear mom and dad . please send money , xxunk so broke that it ai n't funny . i do n't need much just enough to get me through . please do n't worry cause i 'm alright i 'm playing here at the bar tonight . this time i 'm gon na make our dreams come true well i love you more than anything in the world . love . your baby girl black top , blue sky big town full of little white lies everybody 's your friend , you can never be sure they promise fancy cars and diamond rings all xxunk of xxunk things girl , you 'll remember what your knees are for dear mom and dad . please send money , xxunk so broke that it ai n't funny . i do n't need much just enough to get me through . please do n't worry cause i 'm alright i 'm playing here at the bar tonight . this time i 'm gon na make our dreams come true well i love you more than anything in the world . love . your baby girl i know that i 'm on my way i can tell every time i play and i know it 's worth all the dues i pay when i can write to you and say dear mom and dad . i 'll send money , i 'm so rich that it ai n't funny it ought ta be more than enough to get you through please do n't worry cause i 'm alright i 'm staying here at the xxunk tonight what ta ya know we made our dreams come true ! and there are fancy cars and diamond rings but you know that they do n't mean a thing they all add up to nothing compared to you well , remember me in ribbons and curls i still love you more than anything in the world . love . your baby girl,xxbos friday , xxunk , xxunk got to get away had it with the wife thing , living on a shoe string what 's a poor girl got to do just to have some fun ? all these years without any help guess what , honey , clothes just do n't wash themselves ! neither do dishes , neither does the bathroom floor so , now if anyone asks , not that they would i 'll be down in mississippi and up to no good no more , what a bore , had enough , i 'm out the door headed for a breakdown , had it with the small town gon na call lisa , gon na call xxunk sue now we 're gon na let it roll , gon na let it rip gon na get us a nice room down on the strip not that we 'll need it , there wo n't be any sleepin tonight so , now if anyone asks , not that they would we 'll be down in mississippi and up to no good hammer down , here we go runnin for the riverboat all you 're gon na see is xxunk and xxunk luck 's about to change for these three queens tired of getting xxunk , deal us up kings snake eyes , roll the dice , double down and hit me twice xxunk in the big chips , gon na leave a big tip hotter than a two dollar pistol , baby , i 'm on fire so , now if anyone asks , not that they would i 'll be down in mississippi and up to no good if anyone asks , not that they would i 'll be down in mississippi and up to no good,xxbos oh i swear this town gets smaller everyday . and i 'm waiting for my chance . i 'm gon na break away . i 'm so sick and tired of being told what 's good for me . people got lots of ideas , of who i 'm supposed to be . angel carry me , oh so far away . may my body never , touch the ground . and if i promise you that i 'll be back someday . will you set me free so i can fly away ? fly away , fly away well most folks here well they do n't dig too deep . they ca n't dream too big cause they 've got fields to keep i could walk away and leave my family . or get buried alive in this xxunk . i want to sleep under a different piece of sky i want to live a little bit before i die i want to be so close to heaven i see angels fly away,xxbos i was born in the heart of a hurricane season in the house where my mama was raised that old september wind feels just like a long lost friend and i want to run through those cottonwood trees fall asleep in a big bed of fresh fallen leaves and in every wind that blows there 's a song of letting go it 's not goodbye , it 's hello when we met underneath the blue skies of summer and those summer skies turn into fall that sweet september wind made us so much more than friends on night and we ran through those cottonwood trees we made love in a big bed of fresh fallen leaves and in every wind that blows there 's an innocence that knows it 's not goodbye , it 's hello in the moment that one thing ends is the same time that one begins and return as we must we are ashes to dust , amen . when the days of my youth have all faded and the memories are all that remain let that old september wind take me back to where i 've been so i can run through those cottonwood trees and remember the smell of those fresh fallen leaves now in every wind that blows there 's a part of me that knows it 's not goodbye , it 's hello\n",
       "y: LMLabelList\n",
       ",,,,\n",
       "Path: /home/paperspace/fastai/course-v3/nbs/dl1/music;\n",
       "\n",
       "Valid: LabelList (147 items)\n",
       "x: LMTextList\n",
       "xxbos seems like only yesterday i left my mind behind down in the gypsy cafe with a friend of mine she sat with a baby heavy on her knee yet spoke of life most free from xxunk with eyes that showed no trace of misery a phrase in connection first with she i heard that love is just a xxunk word outside a rambling xxunk window cats xxunk to the break of day me , i kept my mouth shut , too to you i had no words to say my xxunk was limited and xxunk you were talking while i hid to the one who was the father of your kid you probably did n't think i did , but i heard you say that love is just a xxunk word i said goodbye xxunk pushed towards things in my own games drifting in and out of xxunk xxunk by name searching for my double , looking for complete xxunk to the core though i tried and failed at finding any door i must have thought that there was nothing more xxunk than that love is just a xxunk word though i never knew just what you meant when you were speaking to your man i can only think in xxunk of me and now i understand after waking enough times to think i see the holy kiss that 's supposed to last eternity blow up in smoke , its destiny falls on strangers , xxunk free yes , i know now , xxunk are only set by me and i do not really need to be assured that love is just a xxunk word,xxbos i 've been a xxunk for seventeen long years i 've spent all my money on whiskey and beer i go to some hollow and sit at my still and if whiskey do n't kill me then i do n't know what will i go to some xxunk and drink with my friends where the women ca n't follow and see what i spend god bless them pretty women i wish they was mine their breath is as sweet the dew on the vine let me eat when i am hungry let me drink when i am dry a dollar when i am xxunk religion when i die the whole world 's a bottle and life 's but a xxunk when the bottle gets empty it sure ai n't worth a damn,xxbos if you see her , say hello . she might be in xxunk she left here last early spring is livin there , i hear say for me that i 'm all right though things get kind of slow she might think that i 've forgotten her do n't tell her it is n't so we had a xxunk like lovers often will and to think of how she left that night it still brings me a chill and though our xxunk it pierced me to the heart she still lives inside of me we 've never been apart if you get close to her kiss her once for me i always have xxunk her for doin what she did and gettin free oh , whatever makes her happy i wo n't stand in the way though the bitter taste still xxunk on from the night i tried to make her stay i see a lot of people as i make the xxunk and i hear her name here and there as i go from town to town and i 've never xxunk used to it i 've just learned to turn it off either i 'm too xxunk or else i 'm gettin soft sundown , yellow moon i xxunk the past i know every scene by heart they all went by so fast if she 's xxunk back this way i 'm not that hard to find tell her she can look me up if she 's got the time,xxbos it 's written on our palms , and it 's written on our hearts it 's written in our songs , and it 's written in the stars sometimes all we can do is stand up tall when they 're standing in line just to watch us fall whoa we ca n't forget , these are the days whoa , do n't be afraid we ca n't forget , these are the days well , we got each other , and that 's all we need from here on out it 's just you and me two xxunk hearts up against the world that do n't stand a chance against this boy and girl we xxunk 'em down , fought bigger xxunk and i know , babe , we 're gon na be alright well , it feels like we 're living from pay check to check and we wake up wondering what might happen next yeah , sometimes it feels like we wo n't make it through but the hard times pass like the good ones do baby , wrap your fingers and hold on tight i 'll be right here beside you tonight baby , climb up here watch the city glow let 's make a wish on the xxunk below we 're making moments that we wo n't forget and feeling ones that have n't happened yet whoa do n't be afraid we ca n't forget these are the days,xxbos i 'm sorry , mother i 'm sorry , i let you down well , these days i 'm fine no these days i tend to lie i 'll take the west train , just by the side of xxunk just by my left brain , just by the side of the tin man i 'm sorry , brother i 'm sorry , i let cha down well , these days you 're fine no these days you tend to lie you 'll take the west train , just by the side of xxunk just by your left brain , just by the side of the tin man your time will come if you wait for it , if you wait for it it 's hard , believe me i 've tried but i keep coming up short i 'm sorry , lover you 're sorry , i bring you down well , these days i try and these days i tend to lie kinda thought i was a mystery and then i thought i was n't meant to be you said yourself xxunk , xxunk you were all alone your time will come if you wait for it , if you wait for it it 's hard , believe me i 've tried your time will come if you wait for it , if you wait for it it 's hard , believe me i 've tried but the rain wo n't fall for the both of us the sun wo n't shine on the both of us believe me when i say , that i would n't have it any other way your time will come if you wait for it , if you wait for it it 's hard , believe me i 've tried but i wo n't wait much longer 'cause these walls they 're crashing down and i wo n't wait much longer 'cause these walls they 're crashing down and i keep coming up short\n",
       "y: LMLabelList\n",
       ",,,,\n",
       "Path: /home/paperspace/fastai/course-v3/nbs/dl1/music;\n",
       "\n",
       "Test: None, model=SequentialRNN(\n",
       "  (0): AWD_LSTM(\n",
       "    (encoder): Embedding(5311, 400, padding_idx=1)\n",
       "    (encoder_dp): EmbeddingDropout(\n",
       "      (emb): Embedding(5311, 400, padding_idx=1)\n",
       "    )\n",
       "    (rnns): ModuleList(\n",
       "      (0): WeightDropout(\n",
       "        (module): LSTM(400, 1150, batch_first=True)\n",
       "      )\n",
       "      (1): WeightDropout(\n",
       "        (module): LSTM(1150, 1150, batch_first=True)\n",
       "      )\n",
       "      (2): WeightDropout(\n",
       "        (module): LSTM(1150, 400, batch_first=True)\n",
       "      )\n",
       "    )\n",
       "    (input_dp): RNNDropout()\n",
       "    (hidden_dps): ModuleList(\n",
       "      (0): RNNDropout()\n",
       "      (1): RNNDropout()\n",
       "      (2): RNNDropout()\n",
       "    )\n",
       "  )\n",
       "  (1): LinearDecoder(\n",
       "    (decoder): Linear(in_features=400, out_features=5311, bias=True)\n",
       "    (output_dp): RNNDropout()\n",
       "  )\n",
       "), opt_func=functools.partial(<class 'torch.optim.adam.Adam'>, betas=(0.9, 0.99)), loss_func=FlattenedLoss of CrossEntropyLoss(), metrics=[<function accuracy at 0x7fe237b167b8>], true_wd=True, bn_wd=True, wd=0.01, train_bn=True, path=PosixPath('/home/paperspace/fastai/course-v3/nbs/dl1/music'), model_dir='models', callback_fns=[<class 'fastai.basic_train.Recorder'>], callbacks=[RNNTrainer\n",
       "learn: LanguageLearner(data=TextLMDataBunch;\n",
       "\n",
       "Train: LabelList (1331 items)\n",
       "x: LMTextList\n",
       "xxbos xxunk no one who knows me better no one that can make me feel so good how did we stay so long together when everybody said we never would and just when i start to think they 're right that love has died there you go making my heart beat again heart beat again , heart beat again there you go making me feel like a kid wo n't you do it and do it one time . there you go pulling me right back in right back in , right back in and i know i 'm never letting this go i 'm stuck on you whoaoh , whoaoh stuck like glue you and me baby we 're stuck like glue whoaoh , whoaoh stuck like glue you and me baby we 're stuck like glue some days i do n't feel like trying some days you know i wanna just give up when it does n't matter who 's right fight about it all night had enough you give me that look i 'm sorry baby let 's make up you do that thing that makes me laugh and just like that there you go making my heart beat again heart beat again , heart beat again there you go making me feel like a kid wo n't you do it and do it one time there you go pulling me right back in right back in , right back in and i know i 'm never letting this go i 'm stuck on you whoaoh , whoaoh stuck like glue you and me baby we 're stuck like glue whoaoh , whoaoh stuck like glue you and me baby we 're stuck like glue whoaoh , whoaoh you almost stay out too stuck together from the xxunk whoaoh , whoaoh feeling kinda sick just a spoon full of sugar make it better real quick i say , whoaoh , whoaoh xxunk gon na do with that whoaoh , whoaoh come on over here with that sugar xxunk sweet stuff come on give me that stuff everybody want some xxunk that get stuck up in your head whoaoh , whoaoh up in your head whoaoh , whoaoh up in your head whoaoh , whoaoh up in your head whoaoh , whoaoh stuck like glue you and me together say it 's all i wanna do i said there you go making my heart beat again heart beat again , heart beat again there you go making me feel like a kid wo n't you do it and do it one time there you go pulling me right back in right back in , right back in and i know i 'm never letting this go there you go making my heart beat again heart beat again , heart beat again there you go making me feel like a kid wo n't you do it and do it one time there you go pulling me right back in right back in , right back in and i know i 'm never letting this go i 'm stuck on you whoaoh , whoaoh stuck like glue you and me baby we 're stuck like glue whoaoh , whoaoh stuck like glue you and me baby we 're stuck like glue whoaoh , whoaoh stuck like glue you and me baby we 're stuck like glue,xxbos they say this town the stars stay up all night do n't know , ca n't see 'em for the glow of the neon lights and it 's a long way from here to the place where the home fires burn well , it 's two thousand miles and one left turn dear mom and dad . please send money , xxunk so broke that it ai n't funny . i do n't need much just enough to get me through . please do n't worry cause i 'm alright i 'm playing here at the bar tonight . this time i 'm gon na make our dreams come true well i love you more than anything in the world . love . your baby girl black top , blue sky big town full of little white lies everybody 's your friend , you can never be sure they promise fancy cars and diamond rings all xxunk of xxunk things girl , you 'll remember what your knees are for dear mom and dad . please send money , xxunk so broke that it ai n't funny . i do n't need much just enough to get me through . please do n't worry cause i 'm alright i 'm playing here at the bar tonight . this time i 'm gon na make our dreams come true well i love you more than anything in the world . love . your baby girl i know that i 'm on my way i can tell every time i play and i know it 's worth all the dues i pay when i can write to you and say dear mom and dad . i 'll send money , i 'm so rich that it ai n't funny it ought ta be more than enough to get you through please do n't worry cause i 'm alright i 'm staying here at the xxunk tonight what ta ya know we made our dreams come true ! and there are fancy cars and diamond rings but you know that they do n't mean a thing they all add up to nothing compared to you well , remember me in ribbons and curls i still love you more than anything in the world . love . your baby girl,xxbos friday , xxunk , xxunk got to get away had it with the wife thing , living on a shoe string what 's a poor girl got to do just to have some fun ? all these years without any help guess what , honey , clothes just do n't wash themselves ! neither do dishes , neither does the bathroom floor so , now if anyone asks , not that they would i 'll be down in mississippi and up to no good no more , what a bore , had enough , i 'm out the door headed for a breakdown , had it with the small town gon na call lisa , gon na call xxunk sue now we 're gon na let it roll , gon na let it rip gon na get us a nice room down on the strip not that we 'll need it , there wo n't be any sleepin tonight so , now if anyone asks , not that they would we 'll be down in mississippi and up to no good hammer down , here we go runnin for the riverboat all you 're gon na see is xxunk and xxunk luck 's about to change for these three queens tired of getting xxunk , deal us up kings snake eyes , roll the dice , double down and hit me twice xxunk in the big chips , gon na leave a big tip hotter than a two dollar pistol , baby , i 'm on fire so , now if anyone asks , not that they would i 'll be down in mississippi and up to no good if anyone asks , not that they would i 'll be down in mississippi and up to no good,xxbos oh i swear this town gets smaller everyday . and i 'm waiting for my chance . i 'm gon na break away . i 'm so sick and tired of being told what 's good for me . people got lots of ideas , of who i 'm supposed to be . angel carry me , oh so far away . may my body never , touch the ground . and if i promise you that i 'll be back someday . will you set me free so i can fly away ? fly away , fly away well most folks here well they do n't dig too deep . they ca n't dream too big cause they 've got fields to keep i could walk away and leave my family . or get buried alive in this xxunk . i want to sleep under a different piece of sky i want to live a little bit before i die i want to be so close to heaven i see angels fly away,xxbos i was born in the heart of a hurricane season in the house where my mama was raised that old september wind feels just like a long lost friend and i want to run through those cottonwood trees fall asleep in a big bed of fresh fallen leaves and in every wind that blows there 's a song of letting go it 's not goodbye , it 's hello when we met underneath the blue skies of summer and those summer skies turn into fall that sweet september wind made us so much more than friends on night and we ran through those cottonwood trees we made love in a big bed of fresh fallen leaves and in every wind that blows there 's an innocence that knows it 's not goodbye , it 's hello in the moment that one thing ends is the same time that one begins and return as we must we are ashes to dust , amen . when the days of my youth have all faded and the memories are all that remain let that old september wind take me back to where i 've been so i can run through those cottonwood trees and remember the smell of those fresh fallen leaves now in every wind that blows there 's a part of me that knows it 's not goodbye , it 's hello\n",
       "y: LMLabelList\n",
       ",,,,\n",
       "Path: /home/paperspace/fastai/course-v3/nbs/dl1/music;\n",
       "\n",
       "Valid: LabelList (147 items)\n",
       "x: LMTextList\n",
       "xxbos seems like only yesterday i left my mind behind down in the gypsy cafe with a friend of mine she sat with a baby heavy on her knee yet spoke of life most free from xxunk with eyes that showed no trace of misery a phrase in connection first with she i heard that love is just a xxunk word outside a rambling xxunk window cats xxunk to the break of day me , i kept my mouth shut , too to you i had no words to say my xxunk was limited and xxunk you were talking while i hid to the one who was the father of your kid you probably did n't think i did , but i heard you say that love is just a xxunk word i said goodbye xxunk pushed towards things in my own games drifting in and out of xxunk xxunk by name searching for my double , looking for complete xxunk to the core though i tried and failed at finding any door i must have thought that there was nothing more xxunk than that love is just a xxunk word though i never knew just what you meant when you were speaking to your man i can only think in xxunk of me and now i understand after waking enough times to think i see the holy kiss that 's supposed to last eternity blow up in smoke , its destiny falls on strangers , xxunk free yes , i know now , xxunk are only set by me and i do not really need to be assured that love is just a xxunk word,xxbos i 've been a xxunk for seventeen long years i 've spent all my money on whiskey and beer i go to some hollow and sit at my still and if whiskey do n't kill me then i do n't know what will i go to some xxunk and drink with my friends where the women ca n't follow and see what i spend god bless them pretty women i wish they was mine their breath is as sweet the dew on the vine let me eat when i am hungry let me drink when i am dry a dollar when i am xxunk religion when i die the whole world 's a bottle and life 's but a xxunk when the bottle gets empty it sure ai n't worth a damn,xxbos if you see her , say hello . she might be in xxunk she left here last early spring is livin there , i hear say for me that i 'm all right though things get kind of slow she might think that i 've forgotten her do n't tell her it is n't so we had a xxunk like lovers often will and to think of how she left that night it still brings me a chill and though our xxunk it pierced me to the heart she still lives inside of me we 've never been apart if you get close to her kiss her once for me i always have xxunk her for doin what she did and gettin free oh , whatever makes her happy i wo n't stand in the way though the bitter taste still xxunk on from the night i tried to make her stay i see a lot of people as i make the xxunk and i hear her name here and there as i go from town to town and i 've never xxunk used to it i 've just learned to turn it off either i 'm too xxunk or else i 'm gettin soft sundown , yellow moon i xxunk the past i know every scene by heart they all went by so fast if she 's xxunk back this way i 'm not that hard to find tell her she can look me up if she 's got the time,xxbos it 's written on our palms , and it 's written on our hearts it 's written in our songs , and it 's written in the stars sometimes all we can do is stand up tall when they 're standing in line just to watch us fall whoa we ca n't forget , these are the days whoa , do n't be afraid we ca n't forget , these are the days well , we got each other , and that 's all we need from here on out it 's just you and me two xxunk hearts up against the world that do n't stand a chance against this boy and girl we xxunk 'em down , fought bigger xxunk and i know , babe , we 're gon na be alright well , it feels like we 're living from pay check to check and we wake up wondering what might happen next yeah , sometimes it feels like we wo n't make it through but the hard times pass like the good ones do baby , wrap your fingers and hold on tight i 'll be right here beside you tonight baby , climb up here watch the city glow let 's make a wish on the xxunk below we 're making moments that we wo n't forget and feeling ones that have n't happened yet whoa do n't be afraid we ca n't forget these are the days,xxbos i 'm sorry , mother i 'm sorry , i let you down well , these days i 'm fine no these days i tend to lie i 'll take the west train , just by the side of xxunk just by my left brain , just by the side of the tin man i 'm sorry , brother i 'm sorry , i let cha down well , these days you 're fine no these days you tend to lie you 'll take the west train , just by the side of xxunk just by your left brain , just by the side of the tin man your time will come if you wait for it , if you wait for it it 's hard , believe me i 've tried but i keep coming up short i 'm sorry , lover you 're sorry , i bring you down well , these days i try and these days i tend to lie kinda thought i was a mystery and then i thought i was n't meant to be you said yourself xxunk , xxunk you were all alone your time will come if you wait for it , if you wait for it it 's hard , believe me i 've tried your time will come if you wait for it , if you wait for it it 's hard , believe me i 've tried but the rain wo n't fall for the both of us the sun wo n't shine on the both of us believe me when i say , that i would n't have it any other way your time will come if you wait for it , if you wait for it it 's hard , believe me i 've tried but i wo n't wait much longer 'cause these walls they 're crashing down and i wo n't wait much longer 'cause these walls they 're crashing down and i keep coming up short\n",
       "y: LMLabelList\n",
       ",,,,\n",
       "Path: /home/paperspace/fastai/course-v3/nbs/dl1/music;\n",
       "\n",
       "Test: None, model=SequentialRNN(\n",
       "  (0): AWD_LSTM(\n",
       "    (encoder): Embedding(5311, 400, padding_idx=1)\n",
       "    (encoder_dp): EmbeddingDropout(\n",
       "      (emb): Embedding(5311, 400, padding_idx=1)\n",
       "    )\n",
       "    (rnns): ModuleList(\n",
       "      (0): WeightDropout(\n",
       "        (module): LSTM(400, 1150, batch_first=True)\n",
       "      )\n",
       "      (1): WeightDropout(\n",
       "        (module): LSTM(1150, 1150, batch_first=True)\n",
       "      )\n",
       "      (2): WeightDropout(\n",
       "        (module): LSTM(1150, 400, batch_first=True)\n",
       "      )\n",
       "    )\n",
       "    (input_dp): RNNDropout()\n",
       "    (hidden_dps): ModuleList(\n",
       "      (0): RNNDropout()\n",
       "      (1): RNNDropout()\n",
       "      (2): RNNDropout()\n",
       "    )\n",
       "  )\n",
       "  (1): LinearDecoder(\n",
       "    (decoder): Linear(in_features=400, out_features=5311, bias=True)\n",
       "    (output_dp): RNNDropout()\n",
       "  )\n",
       "), opt_func=functools.partial(<class 'torch.optim.adam.Adam'>, betas=(0.9, 0.99)), loss_func=FlattenedLoss of CrossEntropyLoss(), metrics=[<function accuracy at 0x7fe237b167b8>], true_wd=True, bn_wd=True, wd=0.01, train_bn=True, path=PosixPath('/home/paperspace/fastai/course-v3/nbs/dl1/music'), model_dir='models', callback_fns=[<class 'fastai.basic_train.Recorder'>], callbacks=[...], layer_groups=[Sequential(\n",
       "  (0): WeightDropout(\n",
       "    (module): LSTM(400, 1150, batch_first=True)\n",
       "  )\n",
       "  (1): RNNDropout()\n",
       "), Sequential(\n",
       "  (0): WeightDropout(\n",
       "    (module): LSTM(1150, 1150, batch_first=True)\n",
       "  )\n",
       "  (1): RNNDropout()\n",
       "), Sequential(\n",
       "  (0): WeightDropout(\n",
       "    (module): LSTM(1150, 400, batch_first=True)\n",
       "  )\n",
       "  (1): RNNDropout()\n",
       "), Sequential(\n",
       "  (0): Embedding(5311, 400, padding_idx=1)\n",
       "  (1): EmbeddingDropout(\n",
       "    (emb): Embedding(5311, 400, padding_idx=1)\n",
       "  )\n",
       "  (2): LinearDecoder(\n",
       "    (decoder): Linear(in_features=400, out_features=5311, bias=True)\n",
       "    (output_dp): RNNDropout()\n",
       "  )\n",
       ")])\n",
       "alpha: 2.0\n",
       "beta: 1.0], layer_groups=[Sequential(\n",
       "  (0): WeightDropout(\n",
       "    (module): LSTM(400, 1150, batch_first=True)\n",
       "  )\n",
       "  (1): RNNDropout()\n",
       "), Sequential(\n",
       "  (0): WeightDropout(\n",
       "    (module): LSTM(1150, 1150, batch_first=True)\n",
       "  )\n",
       "  (1): RNNDropout()\n",
       "), Sequential(\n",
       "  (0): WeightDropout(\n",
       "    (module): LSTM(1150, 400, batch_first=True)\n",
       "  )\n",
       "  (1): RNNDropout()\n",
       "), Sequential(\n",
       "  (0): Embedding(5311, 400, padding_idx=1)\n",
       "  (1): EmbeddingDropout(\n",
       "    (emb): Embedding(5311, 400, padding_idx=1)\n",
       "  )\n",
       "  (2): LinearDecoder(\n",
       "    (decoder): Linear(in_features=400, out_features=5311, bias=True)\n",
       "    (output_dp): RNNDropout()\n",
       "  )\n",
       ")])"
      ]
     },
     "execution_count": 17,
     "metadata": {},
     "output_type": "execute_result"
    }
   ],
   "source": [
    "learn.load('Initial_fit_render')"
   ]
  },
  {
   "cell_type": "code",
   "execution_count": 18,
   "metadata": {},
   "outputs": [
    {
     "name": "stdout",
     "output_type": "stream",
     "text": [
      "LR Finder is complete, type {learner_name}.recorder.plot() to see the graph.\n",
      "Min numerical gradient: 2.09E-05\n"
     ]
    },
    {
     "data": {
      "image/png": "[encoded data removed]",
      "text/plain": [
       "<Figure size 432x288 with 1 Axes>"
      ]
     },
     "metadata": {
      "needs_background": "light"
     },
     "output_type": "display_data"
    }
   ],
   "source": [
    "learn.unfreeze()\n",
    "learn.lr_find()\n",
    "learn.recorder.plot()"
   ]
  },
  {
   "cell_type": "code",
   "execution_count": 20,
   "metadata": {},
   "outputs": [
    {
     "data": {
      "text/html": [
       "Total time: 01:26 <p><table style='width:300px; margin-bottom:10px'>\n",
       "  <tr>\n",
       "    <th>epoch</th>\n",
       "    <th>train_loss</th>\n",
       "    <th>valid_loss</th>\n",
       "    <th>accuracy</th>\n",
       "  </tr>\n",
       "  <tr>\n",
       "    <th>1</th>\n",
       "    <th>2.859836</th>\n",
       "    <th>3.988062</th>\n",
       "    <th>0.262698</th>\n",
       "  </tr>\n",
       "  <tr>\n",
       "    <th>2</th>\n",
       "    <th>2.838120</th>\n",
       "    <th>3.968768</th>\n",
       "    <th>0.267684</th>\n",
       "  </tr>\n",
       "  <tr>\n",
       "    <th>3</th>\n",
       "    <th>2.745850</th>\n",
       "    <th>3.943497</th>\n",
       "    <th>0.271875</th>\n",
       "  </tr>\n",
       "  <tr>\n",
       "    <th>4</th>\n",
       "    <th>2.670281</th>\n",
       "    <th>3.949076</th>\n",
       "    <th>0.274033</th>\n",
       "  </tr>\n",
       "  <tr>\n",
       "    <th>5</th>\n",
       "    <th>2.608480</th>\n",
       "    <th>3.954669</th>\n",
       "    <th>0.274926</th>\n",
       "  </tr>\n",
       "</table>\n"
      ],
      "text/plain": [
       "<IPython.core.display.HTML object>"
      ]
     },
     "metadata": {},
     "output_type": "display_data"
    }
   ],
   "source": [
    "learn.fit_one_cycle(5, slice(1e-4,1e-3), moms=(0.8,0.7))"
   ]
  },
  {
   "cell_type": "code",
   "execution_count": 21,
   "metadata": {},
   "outputs": [
    {
     "data": {
      "text/html": [
       "Total time: 00:52 <p><table style='width:300px; margin-bottom:10px'>\n",
       "  <tr>\n",
       "    <th>epoch</th>\n",
       "    <th>train_loss</th>\n",
       "    <th>valid_loss</th>\n",
       "    <th>accuracy</th>\n",
       "  </tr>\n",
       "  <tr>\n",
       "    <th>1</th>\n",
       "    <th>2.649945</th>\n",
       "    <th>3.931965</th>\n",
       "    <th>0.278299</th>\n",
       "  </tr>\n",
       "  <tr>\n",
       "    <th>2</th>\n",
       "    <th>2.535975</th>\n",
       "    <th>3.892663</th>\n",
       "    <th>0.290129</th>\n",
       "  </tr>\n",
       "  <tr>\n",
       "    <th>3</th>\n",
       "    <th>2.325736</th>\n",
       "    <th>3.901695</th>\n",
       "    <th>0.294940</th>\n",
       "  </tr>\n",
       "</table>\n"
      ],
      "text/plain": [
       "<IPython.core.display.HTML object>"
      ]
     },
     "metadata": {},
     "output_type": "display_data"
    }
   ],
   "source": [
    "learn.fit_one_cycle(3, 1e-3, moms=(0.9,0.8))"
   ]
  },
  {
   "cell_type": "code",
   "execution_count": 22,
   "metadata": {},
   "outputs": [
    {
     "data": {
      "text/html": [
       "Total time: 00:52 <p><table style='width:300px; margin-bottom:10px'>\n",
       "  <tr>\n",
       "    <th>epoch</th>\n",
       "    <th>train_loss</th>\n",
       "    <th>valid_loss</th>\n",
       "    <th>accuracy</th>\n",
       "  </tr>\n",
       "  <tr>\n",
       "    <th>1</th>\n",
       "    <th>2.295465</th>\n",
       "    <th>3.895061</th>\n",
       "    <th>0.297272</th>\n",
       "  </tr>\n",
       "  <tr>\n",
       "    <th>2</th>\n",
       "    <th>2.205605</th>\n",
       "    <th>3.885594</th>\n",
       "    <th>0.306473</th>\n",
       "  </tr>\n",
       "  <tr>\n",
       "    <th>3</th>\n",
       "    <th>1.996905</th>\n",
       "    <th>3.900741</th>\n",
       "    <th>0.310218</th>\n",
       "  </tr>\n",
       "</table>\n"
      ],
      "text/plain": [
       "<IPython.core.display.HTML object>"
      ]
     },
     "metadata": {},
     "output_type": "display_data"
    }
   ],
   "source": [
    "learn.fit_one_cycle(3, 1e-3, moms=(0.9,0.8))"
   ]
  },
  {
   "cell_type": "code",
   "execution_count": 23,
   "metadata": {},
   "outputs": [
    {
     "data": {
      "text/html": [
       "Total time: 00:52 <p><table style='width:300px; margin-bottom:10px'>\n",
       "  <tr>\n",
       "    <th>epoch</th>\n",
       "    <th>train_loss</th>\n",
       "    <th>valid_loss</th>\n",
       "    <th>accuracy</th>\n",
       "  </tr>\n",
       "  <tr>\n",
       "    <th>1</th>\n",
       "    <th>2.007854</th>\n",
       "    <th>3.894826</th>\n",
       "    <th>0.312574</th>\n",
       "  </tr>\n",
       "  <tr>\n",
       "    <th>2</th>\n",
       "    <th>1.927806</th>\n",
       "    <th>3.881098</th>\n",
       "    <th>0.322917</th>\n",
       "  </tr>\n",
       "  <tr>\n",
       "    <th>3</th>\n",
       "    <th>1.763449</th>\n",
       "    <th>3.899900</th>\n",
       "    <th>0.325942</th>\n",
       "  </tr>\n",
       "</table>\n"
      ],
      "text/plain": [
       "<IPython.core.display.HTML object>"
      ]
     },
     "metadata": {},
     "output_type": "display_data"
    }
   ],
   "source": [
    "learn.fit_one_cycle(3, 1e-3, moms=(0.7,0.6), wd=0.1)"
   ]
  },
  {
   "cell_type": "code",
   "execution_count": 24,
   "metadata": {},
   "outputs": [],
   "source": [
    "learn.save('final_fit_render')"
   ]
  },
  {
   "cell_type": "code",
   "execution_count": 6,
   "metadata": {},
   "outputs": [
    {
     "data": {
      "text/plain": [
       "LanguageLearner(data=TextLMDataBunch;\n",
       "\n",
       "Train: LabelList (1331 items)\n",
       "x: LMTextList\n",
       "xxbos xxunk no one who knows me better no one that can make me feel so good how did we stay so long together when everybody said we never would and just when i start to think they 're right that love has died there you go making my heart beat again heart beat again , heart beat again there you go making me feel like a kid wo n't you do it and do it one time . there you go pulling me right back in right back in , right back in and i know i 'm never letting this go i 'm stuck on you whoaoh , whoaoh stuck like glue you and me baby we 're stuck like glue whoaoh , whoaoh stuck like glue you and me baby we 're stuck like glue some days i do n't feel like trying some days you know i wanna just give up when it does n't matter who 's right fight about it all night had enough you give me that look i 'm sorry baby let 's make up you do that thing that makes me laugh and just like that there you go making my heart beat again heart beat again , heart beat again there you go making me feel like a kid wo n't you do it and do it one time there you go pulling me right back in right back in , right back in and i know i 'm never letting this go i 'm stuck on you whoaoh , whoaoh stuck like glue you and me baby we 're stuck like glue whoaoh , whoaoh stuck like glue you and me baby we 're stuck like glue whoaoh , whoaoh you almost stay out too stuck together from the xxunk whoaoh , whoaoh feeling kinda sick just a spoon full of sugar make it better real quick i say , whoaoh , whoaoh xxunk gon na do with that whoaoh , whoaoh come on over here with that sugar xxunk sweet stuff come on give me that stuff everybody want some xxunk that get stuck up in your head whoaoh , whoaoh up in your head whoaoh , whoaoh up in your head whoaoh , whoaoh up in your head whoaoh , whoaoh stuck like glue you and me together say it 's all i wanna do i said there you go making my heart beat again heart beat again , heart beat again there you go making me feel like a kid wo n't you do it and do it one time there you go pulling me right back in right back in , right back in and i know i 'm never letting this go there you go making my heart beat again heart beat again , heart beat again there you go making me feel like a kid wo n't you do it and do it one time there you go pulling me right back in right back in , right back in and i know i 'm never letting this go i 'm stuck on you whoaoh , whoaoh stuck like glue you and me baby we 're stuck like glue whoaoh , whoaoh stuck like glue you and me baby we 're stuck like glue whoaoh , whoaoh stuck like glue you and me baby we 're stuck like glue,xxbos they say this town the stars stay up all night do n't know , ca n't see 'em for the glow of the neon lights and it 's a long way from here to the place where the home fires burn well , it 's two thousand miles and one left turn dear mom and dad . please send money , xxunk so broke that it ai n't funny . i do n't need much just enough to get me through . please do n't worry cause i 'm alright i 'm playing here at the bar tonight . this time i 'm gon na make our dreams come true well i love you more than anything in the world . love . your baby girl black top , blue sky big town full of little white lies everybody 's your friend , you can never be sure they promise fancy cars and diamond rings all xxunk of xxunk things girl , you 'll remember what your knees are for dear mom and dad . please send money , xxunk so broke that it ai n't funny . i do n't need much just enough to get me through . please do n't worry cause i 'm alright i 'm playing here at the bar tonight . this time i 'm gon na make our dreams come true well i love you more than anything in the world . love . your baby girl i know that i 'm on my way i can tell every time i play and i know it 's worth all the dues i pay when i can write to you and say dear mom and dad . i 'll send money , i 'm so rich that it ai n't funny it ought ta be more than enough to get you through please do n't worry cause i 'm alright i 'm staying here at the xxunk tonight what ta ya know we made our dreams come true ! and there are fancy cars and diamond rings but you know that they do n't mean a thing they all add up to nothing compared to you well , remember me in ribbons and curls i still love you more than anything in the world . love . your baby girl,xxbos friday , xxunk , xxunk got to get away had it with the wife thing , living on a shoe string what 's a poor girl got to do just to have some fun ? all these years without any help guess what , honey , clothes just do n't wash themselves ! neither do dishes , neither does the bathroom floor so , now if anyone asks , not that they would i 'll be down in mississippi and up to no good no more , what a bore , had enough , i 'm out the door headed for a breakdown , had it with the small town gon na call lisa , gon na call xxunk sue now we 're gon na let it roll , gon na let it rip gon na get us a nice room down on the strip not that we 'll need it , there wo n't be any sleepin tonight so , now if anyone asks , not that they would we 'll be down in mississippi and up to no good hammer down , here we go runnin for the riverboat all you 're gon na see is xxunk and xxunk luck 's about to change for these three queens tired of getting xxunk , deal us up kings snake eyes , roll the dice , double down and hit me twice xxunk in the big chips , gon na leave a big tip hotter than a two dollar pistol , baby , i 'm on fire so , now if anyone asks , not that they would i 'll be down in mississippi and up to no good if anyone asks , not that they would i 'll be down in mississippi and up to no good,xxbos oh i swear this town gets smaller everyday . and i 'm waiting for my chance . i 'm gon na break away . i 'm so sick and tired of being told what 's good for me . people got lots of ideas , of who i 'm supposed to be . angel carry me , oh so far away . may my body never , touch the ground . and if i promise you that i 'll be back someday . will you set me free so i can fly away ? fly away , fly away well most folks here well they do n't dig too deep . they ca n't dream too big cause they 've got fields to keep i could walk away and leave my family . or get buried alive in this xxunk . i want to sleep under a different piece of sky i want to live a little bit before i die i want to be so close to heaven i see angels fly away,xxbos i was born in the heart of a hurricane season in the house where my mama was raised that old september wind feels just like a long lost friend and i want to run through those cottonwood trees fall asleep in a big bed of fresh fallen leaves and in every wind that blows there 's a song of letting go it 's not goodbye , it 's hello when we met underneath the blue skies of summer and those summer skies turn into fall that sweet september wind made us so much more than friends on night and we ran through those cottonwood trees we made love in a big bed of fresh fallen leaves and in every wind that blows there 's an innocence that knows it 's not goodbye , it 's hello in the moment that one thing ends is the same time that one begins and return as we must we are ashes to dust , amen . when the days of my youth have all faded and the memories are all that remain let that old september wind take me back to where i 've been so i can run through those cottonwood trees and remember the smell of those fresh fallen leaves now in every wind that blows there 's a part of me that knows it 's not goodbye , it 's hello\n",
       "y: LMLabelList\n",
       ",,,,\n",
       "Path: /home/paperspace/fastai/course-v3/nbs/dl1/music;\n",
       "\n",
       "Valid: LabelList (147 items)\n",
       "x: LMTextList\n",
       "xxbos seems like only yesterday i left my mind behind down in the gypsy cafe with a friend of mine she sat with a baby heavy on her knee yet spoke of life most free from xxunk with eyes that showed no trace of misery a phrase in connection first with she i heard that love is just a xxunk word outside a rambling xxunk window cats xxunk to the break of day me , i kept my mouth shut , too to you i had no words to say my xxunk was limited and xxunk you were talking while i hid to the one who was the father of your kid you probably did n't think i did , but i heard you say that love is just a xxunk word i said goodbye xxunk pushed towards things in my own games drifting in and out of xxunk xxunk by name searching for my double , looking for complete xxunk to the core though i tried and failed at finding any door i must have thought that there was nothing more xxunk than that love is just a xxunk word though i never knew just what you meant when you were speaking to your man i can only think in xxunk of me and now i understand after waking enough times to think i see the holy kiss that 's supposed to last eternity blow up in smoke , its destiny falls on strangers , xxunk free yes , i know now , xxunk are only set by me and i do not really need to be assured that love is just a xxunk word,xxbos i 've been a xxunk for seventeen long years i 've spent all my money on whiskey and beer i go to some hollow and sit at my still and if whiskey do n't kill me then i do n't know what will i go to some xxunk and drink with my friends where the women ca n't follow and see what i spend god bless them pretty women i wish they was mine their breath is as sweet the dew on the vine let me eat when i am hungry let me drink when i am dry a dollar when i am xxunk religion when i die the whole world 's a bottle and life 's but a xxunk when the bottle gets empty it sure ai n't worth a damn,xxbos if you see her , say hello . she might be in xxunk she left here last early spring is livin there , i hear say for me that i 'm all right though things get kind of slow she might think that i 've forgotten her do n't tell her it is n't so we had a xxunk like lovers often will and to think of how she left that night it still brings me a chill and though our xxunk it pierced me to the heart she still lives inside of me we 've never been apart if you get close to her kiss her once for me i always have xxunk her for doin what she did and gettin free oh , whatever makes her happy i wo n't stand in the way though the bitter taste still xxunk on from the night i tried to make her stay i see a lot of people as i make the xxunk and i hear her name here and there as i go from town to town and i 've never xxunk used to it i 've just learned to turn it off either i 'm too xxunk or else i 'm gettin soft sundown , yellow moon i xxunk the past i know every scene by heart they all went by so fast if she 's xxunk back this way i 'm not that hard to find tell her she can look me up if she 's got the time,xxbos it 's written on our palms , and it 's written on our hearts it 's written in our songs , and it 's written in the stars sometimes all we can do is stand up tall when they 're standing in line just to watch us fall whoa we ca n't forget , these are the days whoa , do n't be afraid we ca n't forget , these are the days well , we got each other , and that 's all we need from here on out it 's just you and me two xxunk hearts up against the world that do n't stand a chance against this boy and girl we xxunk 'em down , fought bigger xxunk and i know , babe , we 're gon na be alright well , it feels like we 're living from pay check to check and we wake up wondering what might happen next yeah , sometimes it feels like we wo n't make it through but the hard times pass like the good ones do baby , wrap your fingers and hold on tight i 'll be right here beside you tonight baby , climb up here watch the city glow let 's make a wish on the xxunk below we 're making moments that we wo n't forget and feeling ones that have n't happened yet whoa do n't be afraid we ca n't forget these are the days,xxbos i 'm sorry , mother i 'm sorry , i let you down well , these days i 'm fine no these days i tend to lie i 'll take the west train , just by the side of xxunk just by my left brain , just by the side of the tin man i 'm sorry , brother i 'm sorry , i let cha down well , these days you 're fine no these days you tend to lie you 'll take the west train , just by the side of xxunk just by your left brain , just by the side of the tin man your time will come if you wait for it , if you wait for it it 's hard , believe me i 've tried but i keep coming up short i 'm sorry , lover you 're sorry , i bring you down well , these days i try and these days i tend to lie kinda thought i was a mystery and then i thought i was n't meant to be you said yourself xxunk , xxunk you were all alone your time will come if you wait for it , if you wait for it it 's hard , believe me i 've tried your time will come if you wait for it , if you wait for it it 's hard , believe me i 've tried but the rain wo n't fall for the both of us the sun wo n't shine on the both of us believe me when i say , that i would n't have it any other way your time will come if you wait for it , if you wait for it it 's hard , believe me i 've tried but i wo n't wait much longer 'cause these walls they 're crashing down and i wo n't wait much longer 'cause these walls they 're crashing down and i keep coming up short\n",
       "y: LMLabelList\n",
       ",,,,\n",
       "Path: /home/paperspace/fastai/course-v3/nbs/dl1/music;\n",
       "\n",
       "Test: None, model=SequentialRNN(\n",
       "  (0): AWD_LSTM(\n",
       "    (encoder): Embedding(5311, 400, padding_idx=1)\n",
       "    (encoder_dp): EmbeddingDropout(\n",
       "      (emb): Embedding(5311, 400, padding_idx=1)\n",
       "    )\n",
       "    (rnns): ModuleList(\n",
       "      (0): WeightDropout(\n",
       "        (module): LSTM(400, 1150, batch_first=True)\n",
       "      )\n",
       "      (1): WeightDropout(\n",
       "        (module): LSTM(1150, 1150, batch_first=True)\n",
       "      )\n",
       "      (2): WeightDropout(\n",
       "        (module): LSTM(1150, 400, batch_first=True)\n",
       "      )\n",
       "    )\n",
       "    (input_dp): RNNDropout()\n",
       "    (hidden_dps): ModuleList(\n",
       "      (0): RNNDropout()\n",
       "      (1): RNNDropout()\n",
       "      (2): RNNDropout()\n",
       "    )\n",
       "  )\n",
       "  (1): LinearDecoder(\n",
       "    (decoder): Linear(in_features=400, out_features=5311, bias=True)\n",
       "    (output_dp): RNNDropout()\n",
       "  )\n",
       "), opt_func=functools.partial(<class 'torch.optim.adam.Adam'>, betas=(0.9, 0.99)), loss_func=FlattenedLoss of CrossEntropyLoss(), metrics=[<function accuracy at 0x7fa0b09c67b8>], true_wd=True, bn_wd=True, wd=0.01, train_bn=True, path=PosixPath('/home/paperspace/fastai/course-v3/nbs/dl1/music'), model_dir='models', callback_fns=[<class 'fastai.basic_train.Recorder'>], callbacks=[RNNTrainer\n",
       "learn: LanguageLearner(data=TextLMDataBunch;\n",
       "\n",
       "Train: LabelList (1331 items)\n",
       "x: LMTextList\n",
       "xxbos xxunk no one who knows me better no one that can make me feel so good how did we stay so long together when everybody said we never would and just when i start to think they 're right that love has died there you go making my heart beat again heart beat again , heart beat again there you go making me feel like a kid wo n't you do it and do it one time . there you go pulling me right back in right back in , right back in and i know i 'm never letting this go i 'm stuck on you whoaoh , whoaoh stuck like glue you and me baby we 're stuck like glue whoaoh , whoaoh stuck like glue you and me baby we 're stuck like glue some days i do n't feel like trying some days you know i wanna just give up when it does n't matter who 's right fight about it all night had enough you give me that look i 'm sorry baby let 's make up you do that thing that makes me laugh and just like that there you go making my heart beat again heart beat again , heart beat again there you go making me feel like a kid wo n't you do it and do it one time there you go pulling me right back in right back in , right back in and i know i 'm never letting this go i 'm stuck on you whoaoh , whoaoh stuck like glue you and me baby we 're stuck like glue whoaoh , whoaoh stuck like glue you and me baby we 're stuck like glue whoaoh , whoaoh you almost stay out too stuck together from the xxunk whoaoh , whoaoh feeling kinda sick just a spoon full of sugar make it better real quick i say , whoaoh , whoaoh xxunk gon na do with that whoaoh , whoaoh come on over here with that sugar xxunk sweet stuff come on give me that stuff everybody want some xxunk that get stuck up in your head whoaoh , whoaoh up in your head whoaoh , whoaoh up in your head whoaoh , whoaoh up in your head whoaoh , whoaoh stuck like glue you and me together say it 's all i wanna do i said there you go making my heart beat again heart beat again , heart beat again there you go making me feel like a kid wo n't you do it and do it one time there you go pulling me right back in right back in , right back in and i know i 'm never letting this go there you go making my heart beat again heart beat again , heart beat again there you go making me feel like a kid wo n't you do it and do it one time there you go pulling me right back in right back in , right back in and i know i 'm never letting this go i 'm stuck on you whoaoh , whoaoh stuck like glue you and me baby we 're stuck like glue whoaoh , whoaoh stuck like glue you and me baby we 're stuck like glue whoaoh , whoaoh stuck like glue you and me baby we 're stuck like glue,xxbos they say this town the stars stay up all night do n't know , ca n't see 'em for the glow of the neon lights and it 's a long way from here to the place where the home fires burn well , it 's two thousand miles and one left turn dear mom and dad . please send money , xxunk so broke that it ai n't funny . i do n't need much just enough to get me through . please do n't worry cause i 'm alright i 'm playing here at the bar tonight . this time i 'm gon na make our dreams come true well i love you more than anything in the world . love . your baby girl black top , blue sky big town full of little white lies everybody 's your friend , you can never be sure they promise fancy cars and diamond rings all xxunk of xxunk things girl , you 'll remember what your knees are for dear mom and dad . please send money , xxunk so broke that it ai n't funny . i do n't need much just enough to get me through . please do n't worry cause i 'm alright i 'm playing here at the bar tonight . this time i 'm gon na make our dreams come true well i love you more than anything in the world . love . your baby girl i know that i 'm on my way i can tell every time i play and i know it 's worth all the dues i pay when i can write to you and say dear mom and dad . i 'll send money , i 'm so rich that it ai n't funny it ought ta be more than enough to get you through please do n't worry cause i 'm alright i 'm staying here at the xxunk tonight what ta ya know we made our dreams come true ! and there are fancy cars and diamond rings but you know that they do n't mean a thing they all add up to nothing compared to you well , remember me in ribbons and curls i still love you more than anything in the world . love . your baby girl,xxbos friday , xxunk , xxunk got to get away had it with the wife thing , living on a shoe string what 's a poor girl got to do just to have some fun ? all these years without any help guess what , honey , clothes just do n't wash themselves ! neither do dishes , neither does the bathroom floor so , now if anyone asks , not that they would i 'll be down in mississippi and up to no good no more , what a bore , had enough , i 'm out the door headed for a breakdown , had it with the small town gon na call lisa , gon na call xxunk sue now we 're gon na let it roll , gon na let it rip gon na get us a nice room down on the strip not that we 'll need it , there wo n't be any sleepin tonight so , now if anyone asks , not that they would we 'll be down in mississippi and up to no good hammer down , here we go runnin for the riverboat all you 're gon na see is xxunk and xxunk luck 's about to change for these three queens tired of getting xxunk , deal us up kings snake eyes , roll the dice , double down and hit me twice xxunk in the big chips , gon na leave a big tip hotter than a two dollar pistol , baby , i 'm on fire so , now if anyone asks , not that they would i 'll be down in mississippi and up to no good if anyone asks , not that they would i 'll be down in mississippi and up to no good,xxbos oh i swear this town gets smaller everyday . and i 'm waiting for my chance . i 'm gon na break away . i 'm so sick and tired of being told what 's good for me . people got lots of ideas , of who i 'm supposed to be . angel carry me , oh so far away . may my body never , touch the ground . and if i promise you that i 'll be back someday . will you set me free so i can fly away ? fly away , fly away well most folks here well they do n't dig too deep . they ca n't dream too big cause they 've got fields to keep i could walk away and leave my family . or get buried alive in this xxunk . i want to sleep under a different piece of sky i want to live a little bit before i die i want to be so close to heaven i see angels fly away,xxbos i was born in the heart of a hurricane season in the house where my mama was raised that old september wind feels just like a long lost friend and i want to run through those cottonwood trees fall asleep in a big bed of fresh fallen leaves and in every wind that blows there 's a song of letting go it 's not goodbye , it 's hello when we met underneath the blue skies of summer and those summer skies turn into fall that sweet september wind made us so much more than friends on night and we ran through those cottonwood trees we made love in a big bed of fresh fallen leaves and in every wind that blows there 's an innocence that knows it 's not goodbye , it 's hello in the moment that one thing ends is the same time that one begins and return as we must we are ashes to dust , amen . when the days of my youth have all faded and the memories are all that remain let that old september wind take me back to where i 've been so i can run through those cottonwood trees and remember the smell of those fresh fallen leaves now in every wind that blows there 's a part of me that knows it 's not goodbye , it 's hello\n",
       "y: LMLabelList\n",
       ",,,,\n",
       "Path: /home/paperspace/fastai/course-v3/nbs/dl1/music;\n",
       "\n",
       "Valid: LabelList (147 items)\n",
       "x: LMTextList\n",
       "xxbos seems like only yesterday i left my mind behind down in the gypsy cafe with a friend of mine she sat with a baby heavy on her knee yet spoke of life most free from xxunk with eyes that showed no trace of misery a phrase in connection first with she i heard that love is just a xxunk word outside a rambling xxunk window cats xxunk to the break of day me , i kept my mouth shut , too to you i had no words to say my xxunk was limited and xxunk you were talking while i hid to the one who was the father of your kid you probably did n't think i did , but i heard you say that love is just a xxunk word i said goodbye xxunk pushed towards things in my own games drifting in and out of xxunk xxunk by name searching for my double , looking for complete xxunk to the core though i tried and failed at finding any door i must have thought that there was nothing more xxunk than that love is just a xxunk word though i never knew just what you meant when you were speaking to your man i can only think in xxunk of me and now i understand after waking enough times to think i see the holy kiss that 's supposed to last eternity blow up in smoke , its destiny falls on strangers , xxunk free yes , i know now , xxunk are only set by me and i do not really need to be assured that love is just a xxunk word,xxbos i 've been a xxunk for seventeen long years i 've spent all my money on whiskey and beer i go to some hollow and sit at my still and if whiskey do n't kill me then i do n't know what will i go to some xxunk and drink with my friends where the women ca n't follow and see what i spend god bless them pretty women i wish they was mine their breath is as sweet the dew on the vine let me eat when i am hungry let me drink when i am dry a dollar when i am xxunk religion when i die the whole world 's a bottle and life 's but a xxunk when the bottle gets empty it sure ai n't worth a damn,xxbos if you see her , say hello . she might be in xxunk she left here last early spring is livin there , i hear say for me that i 'm all right though things get kind of slow she might think that i 've forgotten her do n't tell her it is n't so we had a xxunk like lovers often will and to think of how she left that night it still brings me a chill and though our xxunk it pierced me to the heart she still lives inside of me we 've never been apart if you get close to her kiss her once for me i always have xxunk her for doin what she did and gettin free oh , whatever makes her happy i wo n't stand in the way though the bitter taste still xxunk on from the night i tried to make her stay i see a lot of people as i make the xxunk and i hear her name here and there as i go from town to town and i 've never xxunk used to it i 've just learned to turn it off either i 'm too xxunk or else i 'm gettin soft sundown , yellow moon i xxunk the past i know every scene by heart they all went by so fast if she 's xxunk back this way i 'm not that hard to find tell her she can look me up if she 's got the time,xxbos it 's written on our palms , and it 's written on our hearts it 's written in our songs , and it 's written in the stars sometimes all we can do is stand up tall when they 're standing in line just to watch us fall whoa we ca n't forget , these are the days whoa , do n't be afraid we ca n't forget , these are the days well , we got each other , and that 's all we need from here on out it 's just you and me two xxunk hearts up against the world that do n't stand a chance against this boy and girl we xxunk 'em down , fought bigger xxunk and i know , babe , we 're gon na be alright well , it feels like we 're living from pay check to check and we wake up wondering what might happen next yeah , sometimes it feels like we wo n't make it through but the hard times pass like the good ones do baby , wrap your fingers and hold on tight i 'll be right here beside you tonight baby , climb up here watch the city glow let 's make a wish on the xxunk below we 're making moments that we wo n't forget and feeling ones that have n't happened yet whoa do n't be afraid we ca n't forget these are the days,xxbos i 'm sorry , mother i 'm sorry , i let you down well , these days i 'm fine no these days i tend to lie i 'll take the west train , just by the side of xxunk just by my left brain , just by the side of the tin man i 'm sorry , brother i 'm sorry , i let cha down well , these days you 're fine no these days you tend to lie you 'll take the west train , just by the side of xxunk just by your left brain , just by the side of the tin man your time will come if you wait for it , if you wait for it it 's hard , believe me i 've tried but i keep coming up short i 'm sorry , lover you 're sorry , i bring you down well , these days i try and these days i tend to lie kinda thought i was a mystery and then i thought i was n't meant to be you said yourself xxunk , xxunk you were all alone your time will come if you wait for it , if you wait for it it 's hard , believe me i 've tried your time will come if you wait for it , if you wait for it it 's hard , believe me i 've tried but the rain wo n't fall for the both of us the sun wo n't shine on the both of us believe me when i say , that i would n't have it any other way your time will come if you wait for it , if you wait for it it 's hard , believe me i 've tried but i wo n't wait much longer 'cause these walls they 're crashing down and i wo n't wait much longer 'cause these walls they 're crashing down and i keep coming up short\n",
       "y: LMLabelList\n",
       ",,,,\n",
       "Path: /home/paperspace/fastai/course-v3/nbs/dl1/music;\n",
       "\n",
       "Test: None, model=SequentialRNN(\n",
       "  (0): AWD_LSTM(\n",
       "    (encoder): Embedding(5311, 400, padding_idx=1)\n",
       "    (encoder_dp): EmbeddingDropout(\n",
       "      (emb): Embedding(5311, 400, padding_idx=1)\n",
       "    )\n",
       "    (rnns): ModuleList(\n",
       "      (0): WeightDropout(\n",
       "        (module): LSTM(400, 1150, batch_first=True)\n",
       "      )\n",
       "      (1): WeightDropout(\n",
       "        (module): LSTM(1150, 1150, batch_first=True)\n",
       "      )\n",
       "      (2): WeightDropout(\n",
       "        (module): LSTM(1150, 400, batch_first=True)\n",
       "      )\n",
       "    )\n",
       "    (input_dp): RNNDropout()\n",
       "    (hidden_dps): ModuleList(\n",
       "      (0): RNNDropout()\n",
       "      (1): RNNDropout()\n",
       "      (2): RNNDropout()\n",
       "    )\n",
       "  )\n",
       "  (1): LinearDecoder(\n",
       "    (decoder): Linear(in_features=400, out_features=5311, bias=True)\n",
       "    (output_dp): RNNDropout()\n",
       "  )\n",
       "), opt_func=functools.partial(<class 'torch.optim.adam.Adam'>, betas=(0.9, 0.99)), loss_func=FlattenedLoss of CrossEntropyLoss(), metrics=[<function accuracy at 0x7fa0b09c67b8>], true_wd=True, bn_wd=True, wd=0.01, train_bn=True, path=PosixPath('/home/paperspace/fastai/course-v3/nbs/dl1/music'), model_dir='models', callback_fns=[<class 'fastai.basic_train.Recorder'>], callbacks=[...], layer_groups=[Sequential(\n",
       "  (0): WeightDropout(\n",
       "    (module): LSTM(400, 1150, batch_first=True)\n",
       "  )\n",
       "  (1): RNNDropout()\n",
       "), Sequential(\n",
       "  (0): WeightDropout(\n",
       "    (module): LSTM(1150, 1150, batch_first=True)\n",
       "  )\n",
       "  (1): RNNDropout()\n",
       "), Sequential(\n",
       "  (0): WeightDropout(\n",
       "    (module): LSTM(1150, 400, batch_first=True)\n",
       "  )\n",
       "  (1): RNNDropout()\n",
       "), Sequential(\n",
       "  (0): Embedding(5311, 400, padding_idx=1)\n",
       "  (1): EmbeddingDropout(\n",
       "    (emb): Embedding(5311, 400, padding_idx=1)\n",
       "  )\n",
       "  (2): LinearDecoder(\n",
       "    (decoder): Linear(in_features=400, out_features=5311, bias=True)\n",
       "    (output_dp): RNNDropout()\n",
       "  )\n",
       ")])\n",
       "alpha: 2.0\n",
       "beta: 1.0], layer_groups=[Sequential(\n",
       "  (0): WeightDropout(\n",
       "    (module): LSTM(400, 1150, batch_first=True)\n",
       "  )\n",
       "  (1): RNNDropout()\n",
       "), Sequential(\n",
       "  (0): WeightDropout(\n",
       "    (module): LSTM(1150, 1150, batch_first=True)\n",
       "  )\n",
       "  (1): RNNDropout()\n",
       "), Sequential(\n",
       "  (0): WeightDropout(\n",
       "    (module): LSTM(1150, 400, batch_first=True)\n",
       "  )\n",
       "  (1): RNNDropout()\n",
       "), Sequential(\n",
       "  (0): Embedding(5311, 400, padding_idx=1)\n",
       "  (1): EmbeddingDropout(\n",
       "    (emb): Embedding(5311, 400, padding_idx=1)\n",
       "  )\n",
       "  (2): LinearDecoder(\n",
       "    (decoder): Linear(in_features=400, out_features=5311, bias=True)\n",
       "    (output_dp): RNNDropout()\n",
       "  )\n",
       ")])"
      ]
     },
     "execution_count": 6,
     "metadata": {},
     "output_type": "execute_result"
    }
   ],
   "source": [
    "learn.load('final_fit_render')"
   ]
  },
  {
   "cell_type": "code",
   "execution_count": 12,
   "metadata": {},
   "outputs": [
    {
     "data": {
      "text/plain": [
       "\"i love you like the other kids at the same old age pulling me out of the right hand and the left hand me, the left thumb, both my fingers and thumb your arms and fingers and thumbs and i'm stood on the ground the shape of you was up and it was sweet sand just like a woman in love come on\""
      ]
     },
     "execution_count": 12,
     "metadata": {},
     "output_type": "execute_result"
    }
   ],
   "source": [
    "#this is the version with the cosine annealing of the temperature with only 1 line\n",
    "def generate_lyric(word='', temp_init=1, decay=50, stops = ['.'], comma_limit=2, words=50):\n",
    "    seeds = ['you are', 'i love you', 'we are', 'how can']\n",
    "    word = random.choice(seeds)\n",
    "    again = []\n",
    "    stops.append('xxbos')\n",
    "    last_4 = ['','','','']\n",
    "    #check_temp = []\n",
    "    total = []\n",
    "    stops.append('xxbos')\n",
    "    i = 0\n",
    "    commas = 0\n",
    "    temp = temp_init\n",
    "    while True:\n",
    "        if any(x in word for x in stops):\n",
    "            break\n",
    "        if commas > comma_limit:\n",
    "            break    \n",
    "        if all(x in (\" \".join([i for i in word.split()[-9:-5]])) for x in last_4) and (len(word.split()) > 10):\n",
    "            break\n",
    "        addition = learn.predict(word, 1, temperature=temp)\n",
    "        total.append(addition)\n",
    "        commas = addition.count(',')\n",
    "        last_4 = total[i].split()[-4:]\n",
    "        word = addition\n",
    "        #print(total[i])\n",
    "        i += 1\n",
    "        temp = max(abs((math.cos(i * math.pi / decay)))*temp_init,0.1)\n",
    "        #check_temp.append(temp)\n",
    "\n",
    "#below is the retokenization of the words\n",
    "    words = total[-2].split()\n",
    "    for i, word in enumerate(words):\n",
    "        if word == 'xxbos':\n",
    "            words[i] = '<br/>'\n",
    "        elif word == 'xxmaj':\n",
    "            words[i+1] = words[i+1][0].upper() + words[i+1][1:]\n",
    "            words[i] = ''\n",
    "        elif word == 'xxup':\n",
    "            words[i+1] = words[i+1].upper()\n",
    "            words[i] = ''     \n",
    "        elif word == 'xxunk' or word == '(' or word == ')' or word == '\"':\n",
    "            words[i] = ''   \n",
    "        elif word == \"n't\":\n",
    "            words[i-1]+= words[i]\n",
    "            words[i] = ''\n",
    "        elif word == \",\":\n",
    "            words[i-1]+= words[i]\n",
    "            words[i] = ''\n",
    "        elif word == '.' or word == '?' or word == '!' or word == ';':\n",
    "            words[i-1]+= words[i]\n",
    "            words[i] = ''\n",
    "        elif word[0] == \"'\":\n",
    "            words[i-1]+= words[i]\n",
    "            words[i] = ''\n",
    "        elif word == ' ':\n",
    "            words[i] = ''\n",
    "        elif \"n't\" in word:\n",
    "            words[i-1]+= words[i]\n",
    "            words[i] = ''\n",
    "        elif word == \"na\":\n",
    "            words[i-1]+= words[i]\n",
    "            words[i] = ''\n",
    "        try:\n",
    "            words.remove('')\n",
    "        except:\n",
    "            continue\n",
    "            \n",
    "    return(' '.join(words))\n",
    "generate_lyric()\n",
    "\n"
   ]
  },
  {
   "cell_type": "code",
   "execution_count": 8,
   "metadata": {},
   "outputs": [
    {
     "data": {
      "text/plain": [
       "\"you are the only one although my mind just flows to me to be ignored the plans i we have made in the things that you'd see when your eyes are closed we'll never be finds miles that particular fallen beneath our feet but the fields are empty outside i don't know why i love you anymore i don't know you anymore i left you in the pieces of my dreams you changed so a lot you see ay an the air we saw in my eyes i wo n’t mourn, i ain't sittin on top of the world now, i'm answers for each beautiful day\""
      ]
     },
     "execution_count": 8,
     "metadata": {},
     "output_type": "execute_result"
    }
   ],
   "source": [
    "#this is the version with the cosine annealing of the temperature with only 1 line - best\n",
    "#this is the best one with the total reconfigured\n",
    "def generate_lyric(temp_init=1, decay=50, stops = ['.'], comma_limit=2, words=50):\n",
    "    seeds = ['you are', 'i love you', 'we are', 'how can']\n",
    "    word = random.choice(seeds)\n",
    "    again = []\n",
    "    stops.append('xxbos')\n",
    "    last_4 = ['','','','']\n",
    "    #check_temp = []\n",
    "    total = []\n",
    "    stops.append('xxbos')\n",
    "    i = 0\n",
    "    commas = 0\n",
    "    temp = temp_init\n",
    "    while True:\n",
    "        if any(x in word for x in stops):\n",
    "            break\n",
    "        if commas > comma_limit:\n",
    "            break    \n",
    "        if all(x in (\" \".join([i for i in word.split()[-9:-5]])) for x in last_4) and (len(word.split()) > 10):\n",
    "            break\n",
    "        addition = learn.predict(word, 1, temperature=temp)\n",
    "        total.append(addition)\n",
    "        total = total[-2:]\n",
    "        commas = addition.count(',')\n",
    "        last_4 = total[-1].split()[-4:]\n",
    "        word = addition\n",
    "        #print(total[i])\n",
    "        i += 1\n",
    "        temp = max(abs((math.cos(len(total) * math.pi / decay)))*temp_init,0.1)\n",
    "        #check_temp.append(temp)\n",
    "\n",
    "#below is the retokenization of the words\n",
    "    words = total[-2].split()\n",
    "    for i, word in enumerate(words):\n",
    "        if word == 'xxbos':\n",
    "            words[i] = '<br/>'\n",
    "        elif word == 'xxmaj':\n",
    "            words[i+1] = words[i+1][0].upper() + words[i+1][1:]\n",
    "            words[i] = ''\n",
    "        elif word == 'xxup':\n",
    "            words[i+1] = words[i+1].upper()\n",
    "            words[i] = ''     \n",
    "        elif word == 'xxunk' or word == '(' or word == ')' or word == '\"':\n",
    "            words[i] = ''   \n",
    "        elif word == \"n't\":\n",
    "            words[i-1]+= words[i]\n",
    "            words[i] = ''\n",
    "        elif word == \",\":\n",
    "            words[i-1]+= words[i]\n",
    "            words[i] = ''\n",
    "        elif word == '.' or word == '?' or word == '!' or word == ';':\n",
    "            words[i-1]+= words[i]\n",
    "            words[i] = ''\n",
    "        elif word[0] == \"'\":\n",
    "            words[i-1]+= words[i]\n",
    "            words[i] = ''\n",
    "        elif word == ' ':\n",
    "            words[i] = ''\n",
    "        elif \"n't\" in word:\n",
    "            words[i-1]+= words[i]\n",
    "            words[i] = ''\n",
    "        elif word == \"na\":\n",
    "            words[i-1]+= words[i]\n",
    "            words[i] = ''\n",
    "        try:\n",
    "            words.remove('')\n",
    "        except:\n",
    "            continue\n",
    "            \n",
    "    return(' '.join(words))\n",
    "\n",
    "generate_lyric()\n",
    "\n"
   ]
  },
  {
   "cell_type": "code",
   "execution_count": 8,
   "metadata": {},
   "outputs": [
    {
     "ename": "RuntimeError",
     "evalue": "CUDA error: device-side assert triggered",
     "output_type": "error",
     "traceback": [
      "\u001b[0;31m---------------------------------------------------------------------------\u001b[0m",
      "\u001b[0;31mRuntimeError\u001b[0m                              Traceback (most recent call last)",
      "\u001b[0;32m<ipython-input-8-08d194703ba9>\u001b[0m in \u001b[0;36m<module>\u001b[0;34m\u001b[0m\n\u001b[1;32m     74\u001b[0m     \u001b[0;32mreturn\u001b[0m\u001b[0;34m(\u001b[0m\u001b[0;34m' '\u001b[0m\u001b[0;34m.\u001b[0m\u001b[0mjoin\u001b[0m\u001b[0;34m(\u001b[0m\u001b[0mwords\u001b[0m\u001b[0;34m)\u001b[0m\u001b[0;34m)\u001b[0m\u001b[0;34m\u001b[0m\u001b[0;34m\u001b[0m\u001b[0m\n\u001b[1;32m     75\u001b[0m \u001b[0;34m\u001b[0m\u001b[0m\n\u001b[0;32m---> 76\u001b[0;31m \u001b[0mgenerate_lyric\u001b[0m\u001b[0;34m(\u001b[0m\u001b[0;34m''\u001b[0m\u001b[0;34m)\u001b[0m\u001b[0;34m\u001b[0m\u001b[0;34m\u001b[0m\u001b[0m\n\u001b[0m\u001b[1;32m     77\u001b[0m \u001b[0;34m\u001b[0m\u001b[0m\n",
      "\u001b[0;32m<ipython-input-8-08d194703ba9>\u001b[0m in \u001b[0;36mgenerate_lyric\u001b[0;34m(data, temp_init, decay, stops, comma_limit, words)\u001b[0m\n\u001b[1;32m     24\u001b[0m         \u001b[0;32mif\u001b[0m \u001b[0mall\u001b[0m\u001b[0;34m(\u001b[0m\u001b[0mx\u001b[0m \u001b[0;32min\u001b[0m \u001b[0;34m(\u001b[0m\u001b[0;34m\" \"\u001b[0m\u001b[0;34m.\u001b[0m\u001b[0mjoin\u001b[0m\u001b[0;34m(\u001b[0m\u001b[0;34m[\u001b[0m\u001b[0mi\u001b[0m \u001b[0;32mfor\u001b[0m \u001b[0mi\u001b[0m \u001b[0;32min\u001b[0m \u001b[0mword\u001b[0m\u001b[0;34m.\u001b[0m\u001b[0msplit\u001b[0m\u001b[0;34m(\u001b[0m\u001b[0;34m)\u001b[0m\u001b[0;34m[\u001b[0m\u001b[0;34m-\u001b[0m\u001b[0;36m9\u001b[0m\u001b[0;34m:\u001b[0m\u001b[0;34m-\u001b[0m\u001b[0;36m5\u001b[0m\u001b[0;34m]\u001b[0m\u001b[0;34m]\u001b[0m\u001b[0;34m)\u001b[0m\u001b[0;34m)\u001b[0m \u001b[0;32mfor\u001b[0m \u001b[0mx\u001b[0m \u001b[0;32min\u001b[0m \u001b[0mlast_4\u001b[0m\u001b[0;34m)\u001b[0m \u001b[0;32mand\u001b[0m \u001b[0;34m(\u001b[0m\u001b[0mlen\u001b[0m\u001b[0;34m(\u001b[0m\u001b[0mword\u001b[0m\u001b[0;34m.\u001b[0m\u001b[0msplit\u001b[0m\u001b[0;34m(\u001b[0m\u001b[0;34m)\u001b[0m\u001b[0;34m)\u001b[0m \u001b[0;34m>\u001b[0m \u001b[0;36m10\u001b[0m\u001b[0;34m)\u001b[0m\u001b[0;34m:\u001b[0m\u001b[0;34m\u001b[0m\u001b[0;34m\u001b[0m\u001b[0m\n\u001b[1;32m     25\u001b[0m             \u001b[0;32mbreak\u001b[0m\u001b[0;34m\u001b[0m\u001b[0;34m\u001b[0m\u001b[0m\n\u001b[0;32m---> 26\u001b[0;31m         \u001b[0maddition\u001b[0m \u001b[0;34m=\u001b[0m \u001b[0mlearn\u001b[0m\u001b[0;34m.\u001b[0m\u001b[0mbeam_search\u001b[0m\u001b[0;34m(\u001b[0m\u001b[0mword\u001b[0m\u001b[0;34m,\u001b[0m \u001b[0;36m1\u001b[0m\u001b[0;34m,\u001b[0m \u001b[0mtemperature\u001b[0m\u001b[0;34m=\u001b[0m\u001b[0mtemp\u001b[0m\u001b[0;34m)\u001b[0m\u001b[0;34m\u001b[0m\u001b[0;34m\u001b[0m\u001b[0m\n\u001b[0m\u001b[1;32m     27\u001b[0m         \u001b[0mtotal\u001b[0m\u001b[0;34m.\u001b[0m\u001b[0mappend\u001b[0m\u001b[0;34m(\u001b[0m\u001b[0maddition\u001b[0m\u001b[0;34m)\u001b[0m\u001b[0;34m\u001b[0m\u001b[0;34m\u001b[0m\u001b[0m\n\u001b[1;32m     28\u001b[0m         \u001b[0mcommas\u001b[0m \u001b[0;34m=\u001b[0m \u001b[0maddition\u001b[0m\u001b[0;34m.\u001b[0m\u001b[0mcount\u001b[0m\u001b[0;34m(\u001b[0m\u001b[0;34m','\u001b[0m\u001b[0;34m)\u001b[0m\u001b[0;34m\u001b[0m\u001b[0;34m\u001b[0m\u001b[0m\n",
      "\u001b[0;32m~/fastai/fastai/text/learner.py\u001b[0m in \u001b[0;36mbeam_search\u001b[0;34m(self, text, n_words, top_k, beam_sz, temperature, sep, decoder)\u001b[0m\n\u001b[1;32m    154\u001b[0m                 \u001b[0mxb\u001b[0m \u001b[0;34m=\u001b[0m \u001b[0mnodes\u001b[0m\u001b[0;34m[\u001b[0m\u001b[0;34m:\u001b[0m\u001b[0;34m,\u001b[0m\u001b[0;34m-\u001b[0m\u001b[0;36m1\u001b[0m\u001b[0;34m]\u001b[0m\u001b[0;34m[\u001b[0m\u001b[0;34m:\u001b[0m\u001b[0;34m,\u001b[0m\u001b[0;32mNone\u001b[0m\u001b[0;34m]\u001b[0m\u001b[0;34m\u001b[0m\u001b[0;34m\u001b[0m\u001b[0m\n\u001b[1;32m    155\u001b[0m         \u001b[0;32mif\u001b[0m \u001b[0mtemperature\u001b[0m \u001b[0;34m!=\u001b[0m \u001b[0;36m1.\u001b[0m\u001b[0;34m:\u001b[0m \u001b[0mscores\u001b[0m\u001b[0;34m.\u001b[0m\u001b[0mdiv_\u001b[0m\u001b[0;34m(\u001b[0m\u001b[0mtemperature\u001b[0m\u001b[0;34m)\u001b[0m\u001b[0;34m\u001b[0m\u001b[0;34m\u001b[0m\u001b[0m\n\u001b[0;32m--> 156\u001b[0;31m         \u001b[0mnode_idx\u001b[0m \u001b[0;34m=\u001b[0m \u001b[0mtorch\u001b[0m\u001b[0;34m.\u001b[0m\u001b[0mmultinomial\u001b[0m\u001b[0;34m(\u001b[0m\u001b[0;36m1\u001b[0m\u001b[0;34m-\u001b[0m\u001b[0mscores\u001b[0m\u001b[0;34m,\u001b[0m \u001b[0;36m1\u001b[0m\u001b[0;34m)\u001b[0m\u001b[0;34m.\u001b[0m\u001b[0mitem\u001b[0m\u001b[0;34m(\u001b[0m\u001b[0;34m)\u001b[0m\u001b[0;34m\u001b[0m\u001b[0;34m\u001b[0m\u001b[0m\n\u001b[0m\u001b[1;32m    157\u001b[0m         \u001b[0;32mreturn\u001b[0m \u001b[0mtext\u001b[0m \u001b[0;34m+\u001b[0m \u001b[0msep\u001b[0m \u001b[0;34m+\u001b[0m \u001b[0msep\u001b[0m\u001b[0;34m.\u001b[0m\u001b[0mjoin\u001b[0m\u001b[0;34m(\u001b[0m\u001b[0mdecoder\u001b[0m\u001b[0;34m(\u001b[0m\u001b[0mself\u001b[0m\u001b[0;34m.\u001b[0m\u001b[0mdata\u001b[0m\u001b[0;34m.\u001b[0m\u001b[0mvocab\u001b[0m\u001b[0;34m.\u001b[0m\u001b[0mtextify\u001b[0m\u001b[0;34m(\u001b[0m\u001b[0;34m[\u001b[0m\u001b[0mi\u001b[0m\u001b[0;34m.\u001b[0m\u001b[0mitem\u001b[0m\u001b[0;34m(\u001b[0m\u001b[0;34m)\u001b[0m \u001b[0;32mfor\u001b[0m \u001b[0mi\u001b[0m \u001b[0;32min\u001b[0m \u001b[0mnodes\u001b[0m\u001b[0;34m[\u001b[0m\u001b[0mnode_idx\u001b[0m\u001b[0;34m]\u001b[0m\u001b[0;34m]\u001b[0m\u001b[0;34m,\u001b[0m \u001b[0msep\u001b[0m\u001b[0;34m=\u001b[0m\u001b[0;32mNone\u001b[0m\u001b[0;34m)\u001b[0m\u001b[0;34m)\u001b[0m\u001b[0;34m)\u001b[0m\u001b[0;34m\u001b[0m\u001b[0;34m\u001b[0m\u001b[0m\n\u001b[1;32m    158\u001b[0m \u001b[0;34m\u001b[0m\u001b[0m\n",
      "\u001b[0;31mRuntimeError\u001b[0m: CUDA error: device-side assert triggered"
     ]
    }
   ],
   "source": [
    "#this is the version with the cosine annealing of the temperature with only 1 line- this is the best\n",
    "#added the optional seeds for if the input is blank\n",
    "#trying to implement beam search\n",
    "\n",
    "def generate_lyric(data, temp_init=1, decay=50, stops = ['.'], comma_limit=2, words=50):\n",
    "    seeds = ['you are', 'i love you', 'we are', 'how can']\n",
    "    if data:\n",
    "        word = data\n",
    "    else:\n",
    "        word = random.choice(seeds)\n",
    "    again = []\n",
    "    stops.append('xxbos')\n",
    "    last_4 = ['','','','']\n",
    "    #check_temp = []\n",
    "    total = []\n",
    "    stops.append('xxbos')\n",
    "    i = 0\n",
    "    commas = 0\n",
    "    temp = temp_init\n",
    "    while True:\n",
    "        if any(x in word for x in stops):\n",
    "            break\n",
    "        if commas > comma_limit:\n",
    "            break    \n",
    "        if all(x in (\" \".join([i for i in word.split()[-9:-5]])) for x in last_4) and (len(word.split()) > 10):\n",
    "            break\n",
    "        addition = learn.beam_search(word, 1, temperature=temp)\n",
    "        total.append(addition)\n",
    "        commas = addition.count(',')\n",
    "        last_4 = total[i].split()[-4:]\n",
    "        word = addition\n",
    "        #print(total[i])\n",
    "        i += 1\n",
    "        temp = max(abs((math.cos(len(total) * math.pi / decay)))*temp_init,0.1)\n",
    "        #check_temp.append(temp)\n",
    "\n",
    "#below is the retokenization of the words\n",
    "    words = total[-2].split()\n",
    "    for i, word in enumerate(words):\n",
    "        if word == 'xxbos':\n",
    "            words[i] = '<br/>'\n",
    "        elif word == 'xxmaj':\n",
    "            words[i+1] = words[i+1][0].upper() + words[i+1][1:]\n",
    "            words[i] = ''\n",
    "        elif word == 'xxup':\n",
    "            words[i+1] = words[i+1].upper()\n",
    "            words[i] = ''     \n",
    "        elif word == 'xxunk' or word == '(' or word == ')' or word == '\"':\n",
    "            words[i] = ''   \n",
    "        elif word == \"n't\":\n",
    "            words[i-1]+= words[i]\n",
    "            words[i] = ''\n",
    "        elif word == \",\":\n",
    "            words[i-1]+= words[i]\n",
    "            words[i] = ''\n",
    "        elif word == '.' or word == '?' or word == '!' or word == ';':\n",
    "            words[i-1]+= words[i]\n",
    "            words[i] = ''\n",
    "        elif word[0] == \"'\":\n",
    "            words[i-1]+= words[i]\n",
    "            words[i] = ''\n",
    "        elif word == ' ':\n",
    "            words[i] = ''\n",
    "        elif \"n't\" in word:\n",
    "            words[i-1]+= words[i]\n",
    "            words[i] = ''\n",
    "        elif word == \"na\":\n",
    "            words[i-1]+= words[i]\n",
    "            words[i] = ''\n",
    "        try:\n",
    "            words.remove('')\n",
    "        except:\n",
    "            continue\n",
    "            \n",
    "    return(' '.join(words))\n",
    "\n",
    "generate_lyric('')\n",
    "\n"
   ]
  },
  {
   "cell_type": "code",
   "execution_count": 9,
   "metadata": {},
   "outputs": [
    {
     "ename": "RuntimeError",
     "evalue": "cuda runtime error (59) : device-side assert triggered at /pytorch/aten/src/THC/generic/THCTensorMath.cu:24",
     "output_type": "error",
     "traceback": [
      "\u001b[0;31m---------------------------------------------------------------------------\u001b[0m",
      "\u001b[0;31mRuntimeError\u001b[0m                              Traceback (most recent call last)",
      "\u001b[0;32m<ipython-input-9-169e74f3f4d5>\u001b[0m in \u001b[0;36m<module>\u001b[0;34m\u001b[0m\n\u001b[0;32m----> 1\u001b[0;31m \u001b[0mlearn\u001b[0m\u001b[0;34m.\u001b[0m\u001b[0mbeam_search\u001b[0m\u001b[0;34m(\u001b[0m\u001b[0;34m'hello'\u001b[0m\u001b[0;34m,\u001b[0m \u001b[0;36m1\u001b[0m\u001b[0;34m)\u001b[0m\u001b[0;34m\u001b[0m\u001b[0;34m\u001b[0m\u001b[0m\n\u001b[0m",
      "\u001b[0;32m~/fastai/fastai/text/learner.py\u001b[0m in \u001b[0;36mbeam_search\u001b[0;34m(self, text, n_words, top_k, beam_sz, temperature, sep, decoder)\u001b[0m\n\u001b[1;32m    131\u001b[0m         \u001b[0;34m\"Return the `n_words` that come after `text` using beam search.\"\u001b[0m\u001b[0;34m\u001b[0m\u001b[0;34m\u001b[0m\u001b[0m\n\u001b[1;32m    132\u001b[0m         \u001b[0mds\u001b[0m \u001b[0;34m=\u001b[0m \u001b[0mself\u001b[0m\u001b[0;34m.\u001b[0m\u001b[0mdata\u001b[0m\u001b[0;34m.\u001b[0m\u001b[0msingle_dl\u001b[0m\u001b[0;34m.\u001b[0m\u001b[0mdataset\u001b[0m\u001b[0;34m\u001b[0m\u001b[0;34m\u001b[0m\u001b[0m\n\u001b[0;32m--> 133\u001b[0;31m         \u001b[0mself\u001b[0m\u001b[0;34m.\u001b[0m\u001b[0mmodel\u001b[0m\u001b[0;34m.\u001b[0m\u001b[0mreset\u001b[0m\u001b[0;34m(\u001b[0m\u001b[0;34m)\u001b[0m\u001b[0;34m\u001b[0m\u001b[0;34m\u001b[0m\u001b[0m\n\u001b[0m\u001b[1;32m    134\u001b[0m         \u001b[0mxb\u001b[0m\u001b[0;34m,\u001b[0m \u001b[0myb\u001b[0m \u001b[0;34m=\u001b[0m \u001b[0mself\u001b[0m\u001b[0;34m.\u001b[0m\u001b[0mdata\u001b[0m\u001b[0;34m.\u001b[0m\u001b[0mone_item\u001b[0m\u001b[0;34m(\u001b[0m\u001b[0mtext\u001b[0m\u001b[0;34m)\u001b[0m\u001b[0;34m\u001b[0m\u001b[0;34m\u001b[0m\u001b[0m\n\u001b[1;32m    135\u001b[0m         \u001b[0mstart_idx\u001b[0m \u001b[0;34m=\u001b[0m \u001b[0mxb\u001b[0m\u001b[0;34m.\u001b[0m\u001b[0mclone\u001b[0m\u001b[0;34m(\u001b[0m\u001b[0;34m)\u001b[0m\u001b[0;34m\u001b[0m\u001b[0;34m\u001b[0m\u001b[0m\n",
      "\u001b[0;32m~/fastai/fastai/text/models/awd_lstm.py\u001b[0m in \u001b[0;36mreset\u001b[0;34m(self)\u001b[0m\n\u001b[1;32m    155\u001b[0m     \u001b[0;32mdef\u001b[0m \u001b[0mreset\u001b[0m\u001b[0;34m(\u001b[0m\u001b[0mself\u001b[0m\u001b[0;34m)\u001b[0m\u001b[0;34m:\u001b[0m\u001b[0;34m\u001b[0m\u001b[0;34m\u001b[0m\u001b[0m\n\u001b[1;32m    156\u001b[0m         \u001b[0;32mfor\u001b[0m \u001b[0mc\u001b[0m \u001b[0;32min\u001b[0m \u001b[0mself\u001b[0m\u001b[0;34m.\u001b[0m\u001b[0mchildren\u001b[0m\u001b[0;34m(\u001b[0m\u001b[0;34m)\u001b[0m\u001b[0;34m:\u001b[0m\u001b[0;34m\u001b[0m\u001b[0;34m\u001b[0m\u001b[0m\n\u001b[0;32m--> 157\u001b[0;31m             \u001b[0;32mif\u001b[0m \u001b[0mhasattr\u001b[0m\u001b[0;34m(\u001b[0m\u001b[0mc\u001b[0m\u001b[0;34m,\u001b[0m \u001b[0;34m'reset'\u001b[0m\u001b[0;34m)\u001b[0m\u001b[0;34m:\u001b[0m \u001b[0mc\u001b[0m\u001b[0;34m.\u001b[0m\u001b[0mreset\u001b[0m\u001b[0;34m(\u001b[0m\u001b[0;34m)\u001b[0m\u001b[0;34m\u001b[0m\u001b[0;34m\u001b[0m\u001b[0m\n\u001b[0m\u001b[1;32m    158\u001b[0m \u001b[0;34m\u001b[0m\u001b[0m\n\u001b[1;32m    159\u001b[0m \u001b[0;32mclass\u001b[0m \u001b[0mPoolingLinearClassifier\u001b[0m\u001b[0;34m(\u001b[0m\u001b[0mnn\u001b[0m\u001b[0;34m.\u001b[0m\u001b[0mModule\u001b[0m\u001b[0;34m)\u001b[0m\u001b[0;34m:\u001b[0m\u001b[0;34m\u001b[0m\u001b[0;34m\u001b[0m\u001b[0m\n",
      "\u001b[0;32m~/fastai/fastai/text/models/awd_lstm.py\u001b[0m in \u001b[0;36mreset\u001b[0;34m(self)\u001b[0m\n\u001b[1;32m    131\u001b[0m         \u001b[0;34m[\u001b[0m\u001b[0mr\u001b[0m\u001b[0;34m.\u001b[0m\u001b[0mreset\u001b[0m\u001b[0;34m(\u001b[0m\u001b[0;34m)\u001b[0m \u001b[0;32mfor\u001b[0m \u001b[0mr\u001b[0m \u001b[0;32min\u001b[0m \u001b[0mself\u001b[0m\u001b[0;34m.\u001b[0m\u001b[0mrnns\u001b[0m \u001b[0;32mif\u001b[0m \u001b[0mhasattr\u001b[0m\u001b[0;34m(\u001b[0m\u001b[0mr\u001b[0m\u001b[0;34m,\u001b[0m \u001b[0;34m'reset'\u001b[0m\u001b[0;34m)\u001b[0m\u001b[0;34m]\u001b[0m\u001b[0;34m\u001b[0m\u001b[0;34m\u001b[0m\u001b[0m\n\u001b[1;32m    132\u001b[0m         \u001b[0;32mif\u001b[0m \u001b[0mself\u001b[0m\u001b[0;34m.\u001b[0m\u001b[0mqrnn\u001b[0m\u001b[0;34m:\u001b[0m \u001b[0mself\u001b[0m\u001b[0;34m.\u001b[0m\u001b[0mhidden\u001b[0m \u001b[0;34m=\u001b[0m \u001b[0;34m[\u001b[0m\u001b[0mself\u001b[0m\u001b[0;34m.\u001b[0m\u001b[0m_one_hidden\u001b[0m\u001b[0;34m(\u001b[0m\u001b[0ml\u001b[0m\u001b[0;34m)\u001b[0m \u001b[0;32mfor\u001b[0m \u001b[0ml\u001b[0m \u001b[0;32min\u001b[0m \u001b[0mrange\u001b[0m\u001b[0;34m(\u001b[0m\u001b[0mself\u001b[0m\u001b[0;34m.\u001b[0m\u001b[0mn_layers\u001b[0m\u001b[0;34m)\u001b[0m\u001b[0;34m]\u001b[0m\u001b[0;34m\u001b[0m\u001b[0;34m\u001b[0m\u001b[0m\n\u001b[0;32m--> 133\u001b[0;31m         \u001b[0;32melse\u001b[0m\u001b[0;34m:\u001b[0m \u001b[0mself\u001b[0m\u001b[0;34m.\u001b[0m\u001b[0mhidden\u001b[0m \u001b[0;34m=\u001b[0m \u001b[0;34m[\u001b[0m\u001b[0;34m(\u001b[0m\u001b[0mself\u001b[0m\u001b[0;34m.\u001b[0m\u001b[0m_one_hidden\u001b[0m\u001b[0;34m(\u001b[0m\u001b[0ml\u001b[0m\u001b[0;34m)\u001b[0m\u001b[0;34m,\u001b[0m \u001b[0mself\u001b[0m\u001b[0;34m.\u001b[0m\u001b[0m_one_hidden\u001b[0m\u001b[0;34m(\u001b[0m\u001b[0ml\u001b[0m\u001b[0;34m)\u001b[0m\u001b[0;34m)\u001b[0m \u001b[0;32mfor\u001b[0m \u001b[0ml\u001b[0m \u001b[0;32min\u001b[0m \u001b[0mrange\u001b[0m\u001b[0;34m(\u001b[0m\u001b[0mself\u001b[0m\u001b[0;34m.\u001b[0m\u001b[0mn_layers\u001b[0m\u001b[0;34m)\u001b[0m\u001b[0;34m]\u001b[0m\u001b[0;34m\u001b[0m\u001b[0;34m\u001b[0m\u001b[0m\n\u001b[0m\u001b[1;32m    134\u001b[0m \u001b[0;34m\u001b[0m\u001b[0m\n\u001b[1;32m    135\u001b[0m \u001b[0;32mclass\u001b[0m \u001b[0mLinearDecoder\u001b[0m\u001b[0;34m(\u001b[0m\u001b[0mnn\u001b[0m\u001b[0;34m.\u001b[0m\u001b[0mModule\u001b[0m\u001b[0;34m)\u001b[0m\u001b[0;34m:\u001b[0m\u001b[0;34m\u001b[0m\u001b[0;34m\u001b[0m\u001b[0m\n",
      "\u001b[0;32m~/fastai/fastai/text/models/awd_lstm.py\u001b[0m in \u001b[0;36m<listcomp>\u001b[0;34m(.0)\u001b[0m\n\u001b[1;32m    131\u001b[0m         \u001b[0;34m[\u001b[0m\u001b[0mr\u001b[0m\u001b[0;34m.\u001b[0m\u001b[0mreset\u001b[0m\u001b[0;34m(\u001b[0m\u001b[0;34m)\u001b[0m \u001b[0;32mfor\u001b[0m \u001b[0mr\u001b[0m \u001b[0;32min\u001b[0m \u001b[0mself\u001b[0m\u001b[0;34m.\u001b[0m\u001b[0mrnns\u001b[0m \u001b[0;32mif\u001b[0m \u001b[0mhasattr\u001b[0m\u001b[0;34m(\u001b[0m\u001b[0mr\u001b[0m\u001b[0;34m,\u001b[0m \u001b[0;34m'reset'\u001b[0m\u001b[0;34m)\u001b[0m\u001b[0;34m]\u001b[0m\u001b[0;34m\u001b[0m\u001b[0;34m\u001b[0m\u001b[0m\n\u001b[1;32m    132\u001b[0m         \u001b[0;32mif\u001b[0m \u001b[0mself\u001b[0m\u001b[0;34m.\u001b[0m\u001b[0mqrnn\u001b[0m\u001b[0;34m:\u001b[0m \u001b[0mself\u001b[0m\u001b[0;34m.\u001b[0m\u001b[0mhidden\u001b[0m \u001b[0;34m=\u001b[0m \u001b[0;34m[\u001b[0m\u001b[0mself\u001b[0m\u001b[0;34m.\u001b[0m\u001b[0m_one_hidden\u001b[0m\u001b[0;34m(\u001b[0m\u001b[0ml\u001b[0m\u001b[0;34m)\u001b[0m \u001b[0;32mfor\u001b[0m \u001b[0ml\u001b[0m \u001b[0;32min\u001b[0m \u001b[0mrange\u001b[0m\u001b[0;34m(\u001b[0m\u001b[0mself\u001b[0m\u001b[0;34m.\u001b[0m\u001b[0mn_layers\u001b[0m\u001b[0;34m)\u001b[0m\u001b[0;34m]\u001b[0m\u001b[0;34m\u001b[0m\u001b[0;34m\u001b[0m\u001b[0m\n\u001b[0;32m--> 133\u001b[0;31m         \u001b[0;32melse\u001b[0m\u001b[0;34m:\u001b[0m \u001b[0mself\u001b[0m\u001b[0;34m.\u001b[0m\u001b[0mhidden\u001b[0m \u001b[0;34m=\u001b[0m \u001b[0;34m[\u001b[0m\u001b[0;34m(\u001b[0m\u001b[0mself\u001b[0m\u001b[0;34m.\u001b[0m\u001b[0m_one_hidden\u001b[0m\u001b[0;34m(\u001b[0m\u001b[0ml\u001b[0m\u001b[0;34m)\u001b[0m\u001b[0;34m,\u001b[0m \u001b[0mself\u001b[0m\u001b[0;34m.\u001b[0m\u001b[0m_one_hidden\u001b[0m\u001b[0;34m(\u001b[0m\u001b[0ml\u001b[0m\u001b[0;34m)\u001b[0m\u001b[0;34m)\u001b[0m \u001b[0;32mfor\u001b[0m \u001b[0ml\u001b[0m \u001b[0;32min\u001b[0m \u001b[0mrange\u001b[0m\u001b[0;34m(\u001b[0m\u001b[0mself\u001b[0m\u001b[0;34m.\u001b[0m\u001b[0mn_layers\u001b[0m\u001b[0;34m)\u001b[0m\u001b[0;34m]\u001b[0m\u001b[0;34m\u001b[0m\u001b[0;34m\u001b[0m\u001b[0m\n\u001b[0m\u001b[1;32m    134\u001b[0m \u001b[0;34m\u001b[0m\u001b[0m\n\u001b[1;32m    135\u001b[0m \u001b[0;32mclass\u001b[0m \u001b[0mLinearDecoder\u001b[0m\u001b[0;34m(\u001b[0m\u001b[0mnn\u001b[0m\u001b[0;34m.\u001b[0m\u001b[0mModule\u001b[0m\u001b[0;34m)\u001b[0m\u001b[0;34m:\u001b[0m\u001b[0;34m\u001b[0m\u001b[0;34m\u001b[0m\u001b[0m\n",
      "\u001b[0;32m~/fastai/fastai/text/models/awd_lstm.py\u001b[0m in \u001b[0;36m_one_hidden\u001b[0;34m(self, l)\u001b[0m\n\u001b[1;32m    120\u001b[0m         \u001b[0;34m\"Return one hidden state.\"\u001b[0m\u001b[0;34m\u001b[0m\u001b[0;34m\u001b[0m\u001b[0m\n\u001b[1;32m    121\u001b[0m         \u001b[0mnh\u001b[0m \u001b[0;34m=\u001b[0m \u001b[0;34m(\u001b[0m\u001b[0mself\u001b[0m\u001b[0;34m.\u001b[0m\u001b[0mn_hid\u001b[0m \u001b[0;32mif\u001b[0m \u001b[0ml\u001b[0m \u001b[0;34m!=\u001b[0m \u001b[0mself\u001b[0m\u001b[0;34m.\u001b[0m\u001b[0mn_layers\u001b[0m \u001b[0;34m-\u001b[0m \u001b[0;36m1\u001b[0m \u001b[0;32melse\u001b[0m \u001b[0mself\u001b[0m\u001b[0;34m.\u001b[0m\u001b[0memb_sz\u001b[0m\u001b[0;34m)\u001b[0m\u001b[0;34m//\u001b[0m\u001b[0mself\u001b[0m\u001b[0;34m.\u001b[0m\u001b[0mndir\u001b[0m\u001b[0;34m\u001b[0m\u001b[0;34m\u001b[0m\u001b[0m\n\u001b[0;32m--> 122\u001b[0;31m         \u001b[0;32mreturn\u001b[0m \u001b[0mone_param\u001b[0m\u001b[0;34m(\u001b[0m\u001b[0mself\u001b[0m\u001b[0;34m)\u001b[0m\u001b[0;34m.\u001b[0m\u001b[0mnew\u001b[0m\u001b[0;34m(\u001b[0m\u001b[0mself\u001b[0m\u001b[0;34m.\u001b[0m\u001b[0mndir\u001b[0m\u001b[0;34m,\u001b[0m \u001b[0mself\u001b[0m\u001b[0;34m.\u001b[0m\u001b[0mbs\u001b[0m\u001b[0;34m,\u001b[0m \u001b[0mnh\u001b[0m\u001b[0;34m)\u001b[0m\u001b[0;34m.\u001b[0m\u001b[0mzero_\u001b[0m\u001b[0;34m(\u001b[0m\u001b[0;34m)\u001b[0m\u001b[0;34m\u001b[0m\u001b[0;34m\u001b[0m\u001b[0m\n\u001b[0m\u001b[1;32m    123\u001b[0m \u001b[0;34m\u001b[0m\u001b[0m\n\u001b[1;32m    124\u001b[0m     \u001b[0;32mdef\u001b[0m \u001b[0mselect_hidden\u001b[0m\u001b[0;34m(\u001b[0m\u001b[0mself\u001b[0m\u001b[0;34m,\u001b[0m \u001b[0midxs\u001b[0m\u001b[0;34m)\u001b[0m\u001b[0;34m:\u001b[0m\u001b[0;34m\u001b[0m\u001b[0;34m\u001b[0m\u001b[0m\n",
      "\u001b[0;31mRuntimeError\u001b[0m: cuda runtime error (59) : device-side assert triggered at /pytorch/aten/src/THC/generic/THCTensorMath.cu:24"
     ]
    }
   ],
   "source": [
    "learn.beam_search('hello', 1)"
   ]
  }
 ],
 "metadata": {
  "kernelspec": {
   "display_name": "Python 3",
   "language": "python",
   "name": "python3"
  },
  "language_info": {
   "codemirror_mode": {
    "name": "ipython",
    "version": 3
   },
   "file_extension": ".py",
   "mimetype": "text/x-python",
   "name": "python",
   "nbconvert_exporter": "python",
   "pygments_lexer": "ipython3",
   "version": "3.6.8"
  }
 },
 "nbformat": 4,
 "nbformat_minor": 2
}
